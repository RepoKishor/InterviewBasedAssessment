{
  "nbformat": 4,
  "nbformat_minor": 0,
  "metadata": {
    "colab": {
      "provenance": []
    },
    "kernelspec": {
      "name": "python3",
      "display_name": "Python 3"
    },
    "language_info": {
      "name": "python"
    }
  },
  "cells": [
    {
      "cell_type": "code",
      "execution_count": 1,
      "metadata": {
        "id": "UfYJ0M5zl2T6"
      },
      "outputs": [],
      "source": [
        "import tensorflow as tf\n",
        "from tensorflow import keras\n",
        "from keras.datasets import mnist\n",
        "from keras.layers import Dense, Flatten, Conv2D, MaxPooling2D\n",
        "from keras.models import Sequential\n",
        "from tensorflow.keras import datasets, layers, models, losses, Model\n",
        "from keras.layers import Dense, Activation, Dropout, Flatten, Conv2D, MaxPooling2D\n",
        "from tensorflow.keras.layers import BatchNormalization"
      ]
    },
    {
      "cell_type": "code",
      "source": [
        "(train_images, train_labels), (test_images, test_labels) = mnist.load_data()"
      ],
      "metadata": {
        "colab": {
          "base_uri": "https://localhost:8080/"
        },
        "id": "bvju3NZfmHiU",
        "outputId": "e745c223-9f3e-4244-8658-34ff1b5eaaa0"
      },
      "execution_count": 2,
      "outputs": [
        {
          "output_type": "stream",
          "name": "stdout",
          "text": [
            "Downloading data from https://storage.googleapis.com/tensorflow/tf-keras-datasets/mnist.npz\n",
            "11490434/11490434 [==============================] - 0s 0us/step\n"
          ]
        }
      ]
    },
    {
      "cell_type": "code",
      "source": [
        "# Reshaping the images\n",
        "train_images = train_images.reshape((60000,28,28,1))\n",
        "train_images = train_images.astype('float32')/255\n",
        "\n",
        "test_images = test_images.reshape((10000,28,28,1))\n",
        "test_images = test_images.astype('float32')/255"
      ],
      "metadata": {
        "id": "XTuByPq5oJDm"
      },
      "execution_count": 3,
      "outputs": []
    },
    {
      "cell_type": "code",
      "source": [
        "from keras.utils import to_categorical\n",
        "\n",
        "train_labels = to_categorical(train_labels)\n",
        "test_labels = to_categorical(test_labels)"
      ],
      "metadata": {
        "id": "ERS0meoPoRVY"
      },
      "execution_count": 4,
      "outputs": []
    },
    {
      "cell_type": "code",
      "source": [
        "model = models.Sequential()\n",
        "model.add(layers.Conv2D(32,(3,3), activation='relu', input_shape = (28,28,1)))\n",
        "model.add(layers.MaxPooling2D((2,2)))\n",
        "model.add(layers.Conv2D(64,(3,3), activation='relu'))\n",
        "model.add(layers.MaxPooling2D((2,2)))\n",
        "model.add(layers.Conv2D(64,(3,3), activation='relu'))\n",
        "model.add(layers.Flatten())\n",
        "model.add(layers.Dense(64,activation = 'relu'))\n",
        "model.add(layers.Dense(10, activation= 'softmax'))\n",
        "\n",
        "model.summary()"
      ],
      "metadata": {
        "colab": {
          "base_uri": "https://localhost:8080/"
        },
        "id": "2Px2fiEhoVNx",
        "outputId": "a259ee13-0c67-4a7c-f86d-c1ba3af6976c"
      },
      "execution_count": 5,
      "outputs": [
        {
          "output_type": "stream",
          "name": "stdout",
          "text": [
            "Model: \"sequential\"\n",
            "_________________________________________________________________\n",
            " Layer (type)                Output Shape              Param #   \n",
            "=================================================================\n",
            " conv2d (Conv2D)             (None, 26, 26, 32)        320       \n",
            "                                                                 \n",
            " max_pooling2d (MaxPooling2D  (None, 13, 13, 32)       0         \n",
            " )                                                               \n",
            "                                                                 \n",
            " conv2d_1 (Conv2D)           (None, 11, 11, 64)        18496     \n",
            "                                                                 \n",
            " max_pooling2d_1 (MaxPooling  (None, 5, 5, 64)         0         \n",
            " 2D)                                                             \n",
            "                                                                 \n",
            " conv2d_2 (Conv2D)           (None, 3, 3, 64)          36928     \n",
            "                                                                 \n",
            " flatten (Flatten)           (None, 576)               0         \n",
            "                                                                 \n",
            " dense (Dense)               (None, 64)                36928     \n",
            "                                                                 \n",
            " dense_1 (Dense)             (None, 10)                650       \n",
            "                                                                 \n",
            "=================================================================\n",
            "Total params: 93,322\n",
            "Trainable params: 93,322\n",
            "Non-trainable params: 0\n",
            "_________________________________________________________________\n"
          ]
        }
      ]
    },
    {
      "cell_type": "code",
      "source": [
        "model.compile(optimizer = 'rmsprop',\n",
        "             loss = 'categorical_crossentropy',\n",
        "             metrics = ['accuracy'])\n",
        "model.fit(train_images, train_labels, epochs=10, batch_size = 64)"
      ],
      "metadata": {
        "colab": {
          "base_uri": "https://localhost:8080/"
        },
        "id": "rvcuRCQBoZZd",
        "outputId": "fe1b9612-84c1-4ca4-cb12-5a6118b99242"
      },
      "execution_count": 7,
      "outputs": [
        {
          "output_type": "stream",
          "name": "stdout",
          "text": [
            "Epoch 1/10\n",
            "938/938 [==============================] - 56s 59ms/step - loss: 0.0675 - accuracy: 0.9788\n",
            "Epoch 2/10\n",
            "938/938 [==============================] - 54s 58ms/step - loss: 0.0394 - accuracy: 0.9878\n",
            "Epoch 3/10\n",
            "938/938 [==============================] - 54s 58ms/step - loss: 0.0275 - accuracy: 0.9915\n",
            "Epoch 4/10\n",
            "938/938 [==============================] - 54s 57ms/step - loss: 0.0218 - accuracy: 0.9933\n",
            "Epoch 5/10\n",
            "938/938 [==============================] - 53s 57ms/step - loss: 0.0179 - accuracy: 0.9946\n",
            "Epoch 6/10\n",
            "938/938 [==============================] - 54s 58ms/step - loss: 0.0137 - accuracy: 0.9958\n",
            "Epoch 7/10\n",
            "938/938 [==============================] - 54s 57ms/step - loss: 0.0118 - accuracy: 0.9966\n",
            "Epoch 8/10\n",
            "938/938 [==============================] - 53s 56ms/step - loss: 0.0085 - accuracy: 0.9972\n",
            "Epoch 9/10\n",
            "938/938 [==============================] - 53s 56ms/step - loss: 0.0078 - accuracy: 0.9978\n",
            "Epoch 10/10\n",
            "938/938 [==============================] - 53s 56ms/step - loss: 0.0062 - accuracy: 0.9981\n"
          ]
        },
        {
          "output_type": "execute_result",
          "data": {
            "text/plain": [
              "<keras.callbacks.History at 0x7f4bc177f100>"
            ]
          },
          "metadata": {},
          "execution_count": 7
        }
      ]
    },
    {
      "cell_type": "code",
      "source": [
        "model.evaluate(test_images, test_labels)[1]"
      ],
      "metadata": {
        "colab": {
          "base_uri": "https://localhost:8080/"
        },
        "id": "6BlUX94aolRs",
        "outputId": "7e5e2212-3cee-4e2c-b0b9-056ec34f7c1f"
      },
      "execution_count": 8,
      "outputs": [
        {
          "output_type": "stream",
          "name": "stdout",
          "text": [
            "313/313 [==============================] - 3s 10ms/step - loss: 0.0334 - accuracy: 0.9915\n"
          ]
        },
        {
          "output_type": "execute_result",
          "data": {
            "text/plain": [
              "0.9915000200271606"
            ]
          },
          "metadata": {},
          "execution_count": 8
        }
      ]
    },
    {
      "cell_type": "code",
      "source": [
        "## USING PyTorch"
      ],
      "metadata": {
        "id": "9UIoVc2RN3Zv"
      },
      "execution_count": null,
      "outputs": []
    },
    {
      "cell_type": "code",
      "source": [
        "import torch\n",
        "import torch.nn as nn"
      ],
      "metadata": {
        "id": "DthRL4imrpVC"
      },
      "execution_count": 9,
      "outputs": []
    },
    {
      "cell_type": "code",
      "source": [
        "# Set device\n",
        "device = torch.device(\"cuda\" if torch.cuda.is_available() else \"cpu\")"
      ],
      "metadata": {
        "id": "Caz7ML9_0c4h"
      },
      "execution_count": 18,
      "outputs": []
    },
    {
      "cell_type": "code",
      "source": [
        "# Load MNIST dataset\n",
        "from torchvision import datasets, transforms\n",
        "transform = transforms.Compose([transforms.ToTensor(), transforms.Normalize((0.1307,), (0.3081,))])\n",
        "train_dataset = datasets.MNIST('mnist_data', train=True, download=True, transform=transform)\n",
        "val_dataset = datasets.MNIST('mnist_data', train=False, download=True, transform=transform)"
      ],
      "metadata": {
        "id": "GJblevRyzFxP"
      },
      "execution_count": 80,
      "outputs": []
    },
    {
      "cell_type": "code",
      "source": [
        "# Create data loaders\n",
        "batch_size = 64\n",
        "train_loader = torch.utils.data.DataLoader(train_dataset, batch_size=batch_size, shuffle=True)\n",
        "val_loader = torch.utils.data.DataLoader(val_dataset, batch_size=batch_size, shuffle=False)"
      ],
      "metadata": {
        "id": "7FON7T-XzLtv"
      },
      "execution_count": 16,
      "outputs": []
    },
    {
      "cell_type": "code",
      "source": [],
      "metadata": {
        "id": "EVRUlSoqzNJ3"
      },
      "execution_count": null,
      "outputs": []
    },
    {
      "cell_type": "code",
      "source": [
        "class SimpleCNN(nn.Module):\n",
        "    def __init__(self):\n",
        "        super(SimpleCNN, self).__init__()\n",
        "        self.conv1 = nn.Conv2d(1, 16, kernel_size=3, stride=1, padding=1)\n",
        "        self.relu1 = nn.ReLU(inplace=True)\n",
        "        self.pool1 = nn.MaxPool2d(kernel_size=2, stride=2)\n",
        "        self.conv2 = nn.Conv2d(16, 32, kernel_size=3, stride=1, padding=1)\n",
        "        self.relu2 = nn.ReLU(inplace=True)\n",
        "        self.pool2 = nn.MaxPool2d(kernel_size=2, stride=2)\n",
        "        self.fc = nn.Linear(32 * 7 * 7, 10)\n",
        "\n",
        "    def forward(self, x):\n",
        "        x = self.relu1(self.conv1(x))\n",
        "        x = self.pool1(x)\n",
        "        x = self.relu2(self.conv2(x))\n",
        "        x = self.pool2(x)\n",
        "        x = x.view(x.size(0), -1)\n",
        "        x = self.fc(x)\n",
        "        return x"
      ],
      "metadata": {
        "id": "_RCq0ZfDs_pJ"
      },
      "execution_count": 81,
      "outputs": []
    },
    {
      "cell_type": "code",
      "source": [
        "# Training loop\n",
        "def train(model, train_loader, optimizer, criterion, device):\n",
        "  model.train()\n",
        "  train_loss = 0\n",
        "  correct = 0\n",
        "  for data, target in train_loader:\n",
        "      data, target = data.to(device), target.to(device)\n",
        "      optimizer.zero_grad()\n",
        "      output = model(data)\n",
        "      loss = criterion(output, target)\n",
        "      train_loss += loss.item() * data.size(0)\n",
        "      pred = output.argmax(dim=1, keepdim=True)\n",
        "      correct += pred.eq(target.view_as(pred)).sum().item()\n",
        "      loss.backward()\n",
        "      optimizer.step()\n",
        "\n",
        "  train_loss /= len(train_loader.dataset)\n",
        "  accuracy = correct / len(train_loader.dataset)\n",
        "  return train_loss, accuracy        \n",
        "\n",
        "def validate(model, val_loader, criterion, device):\n",
        "    model.eval()\n",
        "    val_loss = 0\n",
        "    correct = 0\n",
        "    with torch.no_grad():\n",
        "        for data, target in train_loader:\n",
        "            data, target = data.to(device), target.to(device)\n",
        "            output = model(data)\n",
        "            val_loss += criterion(output, target).item() * data.size(0)\n",
        "            pred = output.argmax(dim=1, keepdim=True)\n",
        "            correct += pred.eq(target.view_as(pred)).sum().item()\n",
        "\n",
        "    val_loss /= len(val_loader.dataset)\n",
        "    accuracy = correct / len(val_loader.dataset)\n",
        "    return val_loss, accuracy\n"
      ],
      "metadata": {
        "id": "QDX6mm5Z3VFp"
      },
      "execution_count": 82,
      "outputs": []
    },
    {
      "cell_type": "code",
      "source": [
        "# Initialization\n",
        "cnn = SimpleCNN().to(device)\n",
        "print(cnn)\n",
        "params = list(cnn.parameters())\n",
        "print('Len Params')\n",
        "print(len(params))\n",
        "print(params[0].size())\n",
        "EPOCH = 3\n",
        "BATCH_SIZE = 50\n",
        "LR = 0.001 \n",
        "optimizer = torch.optim.Adam(cnn.parameters(), lr=LR)\n",
        "loss_function = nn.CrossEntropyLoss()"
      ],
      "metadata": {
        "colab": {
          "base_uri": "https://localhost:8080/"
        },
        "id": "4AcVow3WtPwt",
        "outputId": "7c1f995d-19fb-4bb5-eb31-eeb9133ac92b"
      },
      "execution_count": 77,
      "outputs": [
        {
          "output_type": "stream",
          "name": "stdout",
          "text": [
            "SimpleCNN(\n",
            "  (conv1): Conv2d(1, 16, kernel_size=(3, 3), stride=(1, 1), padding=(1, 1))\n",
            "  (relu1): ReLU(inplace=True)\n",
            "  (pool1): MaxPool2d(kernel_size=2, stride=2, padding=0, dilation=1, ceil_mode=False)\n",
            "  (conv2): Conv2d(16, 32, kernel_size=(3, 3), stride=(1, 1), padding=(1, 1))\n",
            "  (relu2): ReLU(inplace=True)\n",
            "  (pool2): MaxPool2d(kernel_size=2, stride=2, padding=0, dilation=1, ceil_mode=False)\n",
            "  (fc): Linear(in_features=1568, out_features=10, bias=True)\n",
            ")\n",
            "Len Params\n",
            "6\n",
            "torch.Size([16, 1, 3, 3])\n"
          ]
        }
      ]
    },
    {
      "cell_type": "code",
      "source": [
        "# Create the model\n",
        "model = SimpleCNN().to(device)\n",
        "\n",
        "# Define the loss function and optimizer\n",
        "criterion = nn.CrossEntropyLoss()\n",
        "optimizer = torch.optim.Adam(model.parameters(), lr=0.001)"
      ],
      "metadata": {
        "id": "S_sCBTKTtZNj"
      },
      "execution_count": 83,
      "outputs": []
    },
    {
      "cell_type": "code",
      "source": [
        "epochs = 10\n",
        "for epoch in range(epochs):\n",
        "  train_loss, train_acc = train(model, train_loader, optimizer, criterion, device)\n",
        "  val_loss, val_acc = validate(model, val_loader, criterion, device)\n",
        "\n",
        "  if val_acc > best_val_acc:\n",
        "        best_val_acc = val_acc\n",
        "        torch.save(model.state_dict(), 'best_model.pt')\n",
        "\n",
        "  print(f\"Epoch {epoch+1}/{epochs} | Train Loss: {train_loss:.4f} | Train Acc: {train_acc:.4f} | \"\n",
        "          f\"Val Loss: {val_loss:.4f} | Val Acc: {val_acc:.4f}\")\n",
        "\n",
        "\n",
        "# Load the best model\n",
        "model.load_state_dict(torch.load('best_model.pt'))\n",
        "\n",
        "# Test the model\n",
        "test_loss, test_acc = validate(model, val_loader, criterion, device)\n",
        "print(f\"Test Loss: {test_loss:.4f} | Test Acc: {test_acc:.4f}\")"
      ],
      "metadata": {
        "colab": {
          "base_uri": "https://localhost:8080/"
        },
        "id": "_P89FZ9Y1Ruv",
        "outputId": "2875cdf1-a1b1-4e4d-c743-ee475572f260"
      },
      "execution_count": 85,
      "outputs": [
        {
          "output_type": "stream",
          "name": "stdout",
          "text": [
            "Epoch 1/10 | Train Loss: 0.0096 | Train Acc: 0.9968 | Val Loss: 0.0437 | Val Acc: 5.9857\n",
            "Epoch 2/10 | Train Loss: 0.0091 | Train Acc: 0.9971 | Val Loss: 0.0497 | Val Acc: 5.9831\n",
            "Epoch 3/10 | Train Loss: 0.0078 | Train Acc: 0.9973 | Val Loss: 0.0299 | Val Acc: 5.9902\n",
            "Epoch 4/10 | Train Loss: 0.0072 | Train Acc: 0.9974 | Val Loss: 0.0481 | Val Acc: 5.9812\n",
            "Epoch 5/10 | Train Loss: 0.0066 | Train Acc: 0.9978 | Val Loss: 0.0236 | Val Acc: 5.9917\n",
            "Epoch 6/10 | Train Loss: 0.0069 | Train Acc: 0.9975 | Val Loss: 0.0269 | Val Acc: 5.9909\n",
            "Epoch 7/10 | Train Loss: 0.0061 | Train Acc: 0.9977 | Val Loss: 0.0654 | Val Acc: 5.9759\n",
            "Epoch 8/10 | Train Loss: 0.0043 | Train Acc: 0.9985 | Val Loss: 0.0207 | Val Acc: 5.9925\n",
            "Epoch 9/10 | Train Loss: 0.0053 | Train Acc: 0.9981 | Val Loss: 0.0340 | Val Acc: 5.9878\n",
            "Epoch 10/10 | Train Loss: 0.0046 | Train Acc: 0.9984 | Val Loss: 0.0150 | Val Acc: 5.9953\n",
            "Test Loss: 0.0150 | Test Acc: 5.9953\n"
          ]
        }
      ]
    },
    {
      "cell_type": "code",
      "source": [],
      "metadata": {
        "id": "2TQrz5lq0ntH"
      },
      "execution_count": null,
      "outputs": []
    }
  ]
}