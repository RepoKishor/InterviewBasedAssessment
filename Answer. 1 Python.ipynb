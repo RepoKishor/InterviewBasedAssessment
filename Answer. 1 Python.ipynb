{
 "cells": [
  {
   "cell_type": "code",
   "execution_count": 12,
   "id": "373d467c-befe-4e9d-a0bd-1c0a23418c90",
   "metadata": {},
   "outputs": [
    {
     "name": "stdin",
     "output_type": "stream",
     "text": [
      "Enter a string of your choice :  write write write all the number from from from 1 to 100\n"
     ]
    },
    {
     "name": "stdout",
     "output_type": "stream",
     "text": [
      "The length of the Word with maximum frequency is: 5\n"
     ]
    }
   ],
   "source": [
    "from collections import defaultdict\n",
    "\n",
    "inputStr = (input('Enter a string of your choice : '))\n",
    "\n",
    "dict_words = defaultdict(int)\n",
    "for word in inputStr.split():\n",
    "    dict_words[word] += 1\n",
    "#print(dict_words)\n",
    "res = max(dict_words, key=dict_words.get)\n",
    " \n",
    "print(\"The length of the Word with maximum frequency is:\", len(str(res)))"
   ]
  },
  {
   "cell_type": "code",
   "execution_count": null,
   "id": "810127cc-1df3-418d-bb7b-31c34af94941",
   "metadata": {},
   "outputs": [],
   "source": []
  }
 ],
 "metadata": {
  "kernelspec": {
   "display_name": "Python 3 (ipykernel)",
   "language": "python",
   "name": "python3"
  },
  "language_info": {
   "codemirror_mode": {
    "name": "ipython",
    "version": 3
   },
   "file_extension": ".py",
   "mimetype": "text/x-python",
   "name": "python",
   "nbconvert_exporter": "python",
   "pygments_lexer": "ipython3",
   "version": "3.10.9"
  }
 },
 "nbformat": 4,
 "nbformat_minor": 5
}
