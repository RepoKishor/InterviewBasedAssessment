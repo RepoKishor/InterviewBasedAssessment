{
 "cells": [
  {
   "cell_type": "code",
   "execution_count": 9,
   "id": "4f6c6b58-8855-44be-a7c1-f75069f28b62",
   "metadata": {},
   "outputs": [
    {
     "name": "stdout",
     "output_type": "stream",
     "text": [
      "Data has been exported to 'nasagov_data.csv' as a CSV file.\n"
     ]
    }
   ],
   "source": [
    "import requests\n",
    "import csv\n",
    "\n",
    "def readnasadata(url):\n",
    "    response = requests.get(url)\n",
    "    data = response.json()\n",
    "    return data\n",
    "\n",
    "def get_coordinates(geolocation):\n",
    "    if geolocation and \"coordinates\" in geolocation:\n",
    "        return geolocation[\"coordinates\"]\n",
    "    return \"\"\n",
    "\n",
    "def process_nasa_data(data):\n",
    "    processed_data = []\n",
    "    \n",
    "    for item in data:\n",
    "        processed_item = {\n",
    "            \"Name\": item[\"name\"],\n",
    "            \"ID\": item[\"id\"],\n",
    "            \"nametype\": item[\"nametype\"],\n",
    "            \"Fall\": item[\"fall\"],\n",
    "            \"Year\": item.get(\"year\", \"\"),\n",
    "            \"reclat\": item.get(\"reclat\", \"\"),\n",
    "            \"reclong\": item.get(\"reclong\", \"\"),\n",
    "            \"Type\": item[\"recclass\"],\n",
    "            \"Coordinates\": get_coordinates(item.get(\"geolocation\", {}))\n",
    "        }\n",
    "        processed_data.append(processed_item)\n",
    "    \n",
    "    return processed_data\n",
    "\n",
    "def export_to_csv(data, filename):\n",
    "    fieldnames = [\"Name\", \"ID\", \"nametype\", \"Year\", \"Fall\", \"reclat\", \"reclong\", \"Type\",\"Coordinates\"]\n",
    "    \n",
    "    with open(filename, mode='w', newline='',encoding='utf-8') as file:\n",
    "        writer = csv.DictWriter(file, fieldnames=fieldnames)\n",
    "        writer.writeheader()\n",
    "        writer.writerows(data)\n",
    "\n",
    "# Download the data\n",
    "url = \"https://data.nasa.gov/resource/y77d-th95.json\"\n",
    "nasa_data = readnasadata(url)\n",
    "\n",
    "# Process the data\n",
    "processed_data = process_nasa_data(nasa_data)\n",
    "\n",
    "# Export to CSV\n",
    "filename = \"nasagov_data.csv\"\n",
    "export_to_csv(processed_data, filename)\n",
    "print(f\"Data has been exported to '{filename}' as a CSV file.\")\n"
   ]
  },
  {
   "cell_type": "code",
   "execution_count": null,
   "id": "02410db8-ca86-47a5-9ebe-f9186db8fd37",
   "metadata": {},
   "outputs": [],
   "source": []
  }
 ],
 "metadata": {
  "kernelspec": {
   "display_name": "Python 3 (ipykernel)",
   "language": "python",
   "name": "python3"
  },
  "language_info": {
   "codemirror_mode": {
    "name": "ipython",
    "version": 3
   },
   "file_extension": ".py",
   "mimetype": "text/x-python",
   "name": "python",
   "nbconvert_exporter": "python",
   "pygments_lexer": "ipython3",
   "version": "3.10.9"
  }
 },
 "nbformat": 4,
 "nbformat_minor": 5
}
