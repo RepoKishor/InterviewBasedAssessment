{
 "cells": [
  {
   "cell_type": "code",
   "execution_count": 1,
   "id": "97f6abd8-5850-4b6b-95bb-664ba033e8f3",
   "metadata": {},
   "outputs": [
    {
     "name": "stdin",
     "output_type": "stream",
     "text": [
      "Enter a string:  abcc\n"
     ]
    },
    {
     "name": "stdout",
     "output_type": "stream",
     "text": [
      "YES\n"
     ]
    }
   ],
   "source": [
    "def is_valid_string(s):\n",
    "    char_count = {}\n",
    "    \n",
    "    for char in s:\n",
    "        char_count[char] = char_count.get(char, 0) + 1\n",
    "    \n",
    "    freq_count = {}\n",
    "    for count in char_count.values():\n",
    "        freq_count[count] = freq_count.get(count, 0) + 1\n",
    "    \n",
    "    if len(freq_count) == 1:\n",
    "        return \"YES\"\n",
    "    \n",
    "    if len(freq_count) > 2:\n",
    "        return \"NO\"\n",
    "    \n",
    "    freq1, freq2 = freq_count.keys()\n",
    "    count1, count2 = freq_count.values()\n",
    "    \n",
    "    if (count1 == 1 and (freq1 == 1 or freq1 - freq2 == 1)) or (count2 == 1 and (freq2 == 1 or freq2 - freq1 == 1)):\n",
    "        return \"YES\"\n",
    "\n",
    "    return \"NO\"\n",
    "\n",
    "string = input(\"Enter a string: \")\n",
    "print(is_valid_string(string))"
   ]
  },
  {
   "cell_type": "code",
   "execution_count": null,
   "id": "9569af20-656c-4bdc-a5f5-f769cb9bf557",
   "metadata": {},
   "outputs": [],
   "source": []
  }
 ],
 "metadata": {
  "kernelspec": {
   "display_name": "Python 3 (ipykernel)",
   "language": "python",
   "name": "python3"
  },
  "language_info": {
   "codemirror_mode": {
    "name": "ipython",
    "version": 3
   },
   "file_extension": ".py",
   "mimetype": "text/x-python",
   "name": "python",
   "nbconvert_exporter": "python",
   "pygments_lexer": "ipython3",
   "version": "3.10.9"
  }
 },
 "nbformat": 4,
 "nbformat_minor": 5
}
