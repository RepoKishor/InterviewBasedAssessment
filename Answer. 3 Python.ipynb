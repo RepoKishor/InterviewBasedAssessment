{
 "cells": [
  {
   "cell_type": "code",
   "execution_count": 10,
   "id": "af8b95e8-6265-4610-99ac-05d4c5448772",
   "metadata": {},
   "outputs": [
    {
     "name": "stdout",
     "output_type": "stream",
     "text": [
      "Data has been exported to 'pokemon_data.xlsx' in Excel format.\n"
     ]
    }
   ],
   "source": [
    "import requests\n",
    "import json\n",
    "import pandas as pd\n",
    "\n",
    "def download_pokemon_data(url):\n",
    "    response = requests.get(url)\n",
    "    data = response.json()\n",
    "    return data\n",
    "\n",
    "def process_pokemon_data(data):\n",
    "    pokemon_list = data.get(\"pokemon\", [])\n",
    "    processed_data = []\n",
    "    \n",
    "    for pokemon in pokemon_list:\n",
    "        pokemon_data = {\n",
    "            \"Name\": pokemon[\"name\"],\n",
    "            \"img\": pokemon[\"img\"],\n",
    "            \"Type\": \", \".join(pokemon[\"type\"]),\n",
    "            \"Height\": pokemon[\"height\"],\n",
    "            \"Weight\": pokemon[\"weight\"],\n",
    "            \"egg:\": pokemon[\"egg\"],\n",
    "            \"spawn_chance\": pokemon[\"spawn_chance\"],\n",
    "            \"avg_spawns:\": pokemon[\"avg_spawns\"],\n",
    "            \"spawn_time\": pokemon[\"spawn_time\"],\n",
    "            \"multipliers:\": pokemon[\"multipliers\"],\n",
    "            \"weaknesses:\": \", \".join(pokemon[\"weaknesses\"]),\n",
    "        }\n",
    "        processed_data.append(pokemon_data)\n",
    "    \n",
    "    return processed_data\n",
    "\n",
    "def export_to_excel(data, filename):\n",
    "    df = pd.DataFrame(data)\n",
    "    df.to_excel(filename, index=False)\n",
    "\n",
    "\n",
    "url = \"https://raw.githubusercontent.com/Biuni/PokemonGO-Pokedex/master/pokedex.json\"\n",
    "pokemon_data = download_pokemon_data(url)\n",
    "processed_data = process_pokemon_data(pokemon_data)\n",
    "filename = \"pokemon_data.xlsx\"\n",
    "export_to_excel(processed_data, filename)\n",
    "print(f\"Data has been exported to '{filename}' in Excel format.\")"
   ]
  },
  {
   "cell_type": "code",
   "execution_count": null,
   "id": "382a4749-bce6-4291-86be-35e442984081",
   "metadata": {},
   "outputs": [],
   "source": []
  }
 ],
 "metadata": {
  "kernelspec": {
   "display_name": "Python 3 (ipykernel)",
   "language": "python",
   "name": "python3"
  },
  "language_info": {
   "codemirror_mode": {
    "name": "ipython",
    "version": 3
   },
   "file_extension": ".py",
   "mimetype": "text/x-python",
   "name": "python",
   "nbconvert_exporter": "python",
   "pygments_lexer": "ipython3",
   "version": "3.10.9"
  }
 },
 "nbformat": 4,
 "nbformat_minor": 5
}
