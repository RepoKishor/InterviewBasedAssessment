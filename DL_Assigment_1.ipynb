{
  "nbformat": 4,
  "nbformat_minor": 0,
  "metadata": {
    "colab": {
      "provenance": []
    },
    "kernelspec": {
      "name": "python3",
      "display_name": "Python 3"
    },
    "language_info": {
      "name": "python"
    }
  },
  "cells": [
    {
      "cell_type": "code",
      "execution_count": 2,
      "metadata": {
        "id": "AwBEFGcq4-HL"
      },
      "outputs": [],
      "source": [
        "#Question 1 - Implement 3 different CNN architectures with a comparison table for the MNSIT dataset using the Tensorflow library."
      ]
    },
    {
      "cell_type": "code",
      "source": [
        "## LeNet-5: LeNet-5 is a very efficient convolutional neural network for handwritten character recognition"
      ],
      "metadata": {
        "id": "4vKv2WjL5FyH"
      },
      "execution_count": 3,
      "outputs": []
    },
    {
      "cell_type": "code",
      "source": [
        "import tensorflow as tf\n",
        "from tensorflow import keras\n",
        "from keras.datasets import mnist\n",
        "from keras.layers import Dense, Flatten, Conv2D, MaxPooling2D\n",
        "from keras.models import Sequential"
      ],
      "metadata": {
        "id": "_spZR_vQ5hEq"
      },
      "execution_count": 10,
      "outputs": []
    },
    {
      "cell_type": "code",
      "source": [
        "(x_train, y_train), (x_test, y_test) = mnist.load_data()"
      ],
      "metadata": {
        "colab": {
          "base_uri": "https://localhost:8080/"
        },
        "id": "lHZDAZRx6VLI",
        "outputId": "5fb669c1-4b86-407d-c8ae-7b80442a50c9"
      },
      "execution_count": 5,
      "outputs": [
        {
          "output_type": "stream",
          "name": "stdout",
          "text": [
            "Downloading data from https://storage.googleapis.com/tensorflow/tf-keras-datasets/mnist.npz\n",
            "11490434/11490434 [==============================] - 0s 0us/step\n"
          ]
        }
      ]
    },
    {
      "cell_type": "code",
      "source": [
        "x_train.shape"
      ],
      "metadata": {
        "colab": {
          "base_uri": "https://localhost:8080/"
        },
        "id": "dNM6nHMv6XdO",
        "outputId": "af0265e9-4901-4486-9c6f-3c1e2d3a64c8"
      },
      "execution_count": 6,
      "outputs": [
        {
          "output_type": "execute_result",
          "data": {
            "text/plain": [
              "(60000, 28, 28)"
            ]
          },
          "metadata": {},
          "execution_count": 6
        }
      ]
    },
    {
      "cell_type": "code",
      "source": [
        "# Peforming reshaping operation\n",
        "x_train = x_train.reshape(x_train.shape[0], 28, 28, 1)\n",
        "x_test = x_test.reshape(x_test.shape[0], 28, 28, 1)\n",
        "\n",
        "# Normalization\n",
        "x_train = x_train / 255\n",
        "x_test = x_test / 255\n",
        "\n",
        "# One Hot Encoding\n",
        "y_train = keras.utils.to_categorical(y_train, 10)\n",
        "y_test = keras.utils.to_categorical(y_test, 10)"
      ],
      "metadata": {
        "id": "yGSXenwY6dlc"
      },
      "execution_count": 7,
      "outputs": []
    },
    {
      "cell_type": "code",
      "source": [
        "## Building Model Architecture"
      ],
      "metadata": {
        "id": "KelGkHlg6pT1"
      },
      "execution_count": 8,
      "outputs": []
    },
    {
      "cell_type": "code",
      "source": [
        "model = Sequential()\n",
        "# Parameters between input layer and C1 layer: 6 ∗ (5 ∗ 5 + 1)\n",
        "model.add(Conv2D(6, kernel_size=(5, 5), activation='relu', input_shape=(28, 28, 1)))\n",
        "# The input of this layer is the output of the first layer, which is a 28 * 28 * 6 matrix.\n",
        "# The size of the filter used in this layer is 2 * 2, and the stride is 2, so the output matrix size of this layer is 14 * 14 * 6.\n",
        "model.add(MaxPooling2D(pool_size=(2, 2)))\n",
        "# The input matrix size of this layer is 14 * 14 * 6, the filter size used is 5 * 5, and the depth is 16. This layer does not use all 0 padding, and the step size is 1.\n",
        "model.add(Conv2D(16, kernel_size=(5, 5), activation='relu'))\n",
        "# The input matrix size of this layer is 10 * 10 * 16. The size of the filter used in this layer is 2 * 2, and the length and width steps are both 2, so the output matrix size of this layer is 5 * 5 * 16.\n",
        "model.add(MaxPooling2D(pool_size=(2, 2)))\n",
        "# The number of output nodes in this layer is 120, with a total of 5 * 5 * 16 * 120 + 120 = 48120 parameters.\n",
        "\n",
        "model.add(Flatten())\n",
        "model.add(Dense(120, activation='relu'))\n",
        "model.add(Dense(84, activation='relu'))\n",
        "model.add(Dense(10, activation='softmax'))\n",
        "\n",
        "model.summary()"
      ],
      "metadata": {
        "colab": {
          "base_uri": "https://localhost:8080/"
        },
        "id": "Pw7EpEPD6xdO",
        "outputId": "17740059-84d1-41b3-b40e-9adb3352acc1"
      },
      "execution_count": 11,
      "outputs": [
        {
          "output_type": "stream",
          "name": "stdout",
          "text": [
            "Model: \"sequential_1\"\n",
            "_________________________________________________________________\n",
            " Layer (type)                Output Shape              Param #   \n",
            "=================================================================\n",
            " conv2d_1 (Conv2D)           (None, 24, 24, 6)         156       \n",
            "                                                                 \n",
            " max_pooling2d (MaxPooling2D  (None, 12, 12, 6)        0         \n",
            " )                                                               \n",
            "                                                                 \n",
            " conv2d_2 (Conv2D)           (None, 8, 8, 16)          2416      \n",
            "                                                                 \n",
            " max_pooling2d_1 (MaxPooling  (None, 4, 4, 16)         0         \n",
            " 2D)                                                             \n",
            "                                                                 \n",
            " flatten (Flatten)           (None, 256)               0         \n",
            "                                                                 \n",
            " dense (Dense)               (None, 120)               30840     \n",
            "                                                                 \n",
            " dense_1 (Dense)             (None, 84)                10164     \n",
            "                                                                 \n",
            " dense_2 (Dense)             (None, 10)                850       \n",
            "                                                                 \n",
            "=================================================================\n",
            "Total params: 44,426\n",
            "Trainable params: 44,426\n",
            "Non-trainable params: 0\n",
            "_________________________________________________________________\n"
          ]
        }
      ]
    },
    {
      "cell_type": "code",
      "source": [
        "model.compile(loss=keras.metrics.categorical_crossentropy, optimizer=keras.optimizers.Adam(), metrics=['accuracy'])\n",
        "model.fit(x_train, y_train, batch_size=128, epochs=20, verbose=1, validation_data=(x_test, y_test))\n",
        "score = model.evaluate(x_test, y_test)\n",
        "print('Test Loss:', score[0])\n",
        "print('Test accuracy:', score[1])"
      ],
      "metadata": {
        "colab": {
          "base_uri": "https://localhost:8080/"
        },
        "id": "JCqzBt6P8Xag",
        "outputId": "7faf7910-9ed1-4b16-9748-fc8bd22df680"
      },
      "execution_count": 12,
      "outputs": [
        {
          "output_type": "stream",
          "name": "stdout",
          "text": [
            "Epoch 1/20\n",
            "469/469 [==============================] - 29s 56ms/step - loss: 0.2992 - accuracy: 0.9129 - val_loss: 0.0816 - val_accuracy: 0.9751\n",
            "Epoch 2/20\n",
            "469/469 [==============================] - 26s 55ms/step - loss: 0.0861 - accuracy: 0.9737 - val_loss: 0.0606 - val_accuracy: 0.9811\n",
            "Epoch 3/20\n",
            "469/469 [==============================] - 26s 55ms/step - loss: 0.0647 - accuracy: 0.9798 - val_loss: 0.0482 - val_accuracy: 0.9847\n",
            "Epoch 4/20\n",
            "469/469 [==============================] - 27s 57ms/step - loss: 0.0491 - accuracy: 0.9846 - val_loss: 0.0453 - val_accuracy: 0.9856\n",
            "Epoch 5/20\n",
            "469/469 [==============================] - 26s 55ms/step - loss: 0.0410 - accuracy: 0.9874 - val_loss: 0.0559 - val_accuracy: 0.9835\n",
            "Epoch 6/20\n",
            "469/469 [==============================] - 26s 55ms/step - loss: 0.0365 - accuracy: 0.9885 - val_loss: 0.0492 - val_accuracy: 0.9830\n",
            "Epoch 7/20\n",
            "469/469 [==============================] - 26s 55ms/step - loss: 0.0304 - accuracy: 0.9906 - val_loss: 0.0369 - val_accuracy: 0.9878\n",
            "Epoch 8/20\n",
            "469/469 [==============================] - 26s 55ms/step - loss: 0.0255 - accuracy: 0.9924 - val_loss: 0.0387 - val_accuracy: 0.9880\n",
            "Epoch 9/20\n",
            "469/469 [==============================] - 26s 55ms/step - loss: 0.0230 - accuracy: 0.9926 - val_loss: 0.0376 - val_accuracy: 0.9872\n",
            "Epoch 10/20\n",
            "469/469 [==============================] - 26s 55ms/step - loss: 0.0202 - accuracy: 0.9935 - val_loss: 0.0368 - val_accuracy: 0.9884\n",
            "Epoch 11/20\n",
            "469/469 [==============================] - 26s 55ms/step - loss: 0.0185 - accuracy: 0.9944 - val_loss: 0.0467 - val_accuracy: 0.9862\n",
            "Epoch 12/20\n",
            "469/469 [==============================] - 27s 57ms/step - loss: 0.0154 - accuracy: 0.9949 - val_loss: 0.0343 - val_accuracy: 0.9889\n",
            "Epoch 13/20\n",
            "469/469 [==============================] - 26s 55ms/step - loss: 0.0136 - accuracy: 0.9950 - val_loss: 0.0392 - val_accuracy: 0.9880\n",
            "Epoch 14/20\n",
            "469/469 [==============================] - 26s 54ms/step - loss: 0.0142 - accuracy: 0.9953 - val_loss: 0.0404 - val_accuracy: 0.9882\n",
            "Epoch 15/20\n",
            "469/469 [==============================] - 27s 57ms/step - loss: 0.0127 - accuracy: 0.9959 - val_loss: 0.0401 - val_accuracy: 0.9878\n",
            "Epoch 16/20\n",
            "469/469 [==============================] - 25s 54ms/step - loss: 0.0102 - accuracy: 0.9966 - val_loss: 0.0412 - val_accuracy: 0.9886\n",
            "Epoch 17/20\n",
            "469/469 [==============================] - 26s 56ms/step - loss: 0.0089 - accuracy: 0.9972 - val_loss: 0.0444 - val_accuracy: 0.9890\n",
            "Epoch 18/20\n",
            "469/469 [==============================] - 26s 55ms/step - loss: 0.0090 - accuracy: 0.9969 - val_loss: 0.0403 - val_accuracy: 0.9888\n",
            "Epoch 19/20\n",
            "469/469 [==============================] - 25s 54ms/step - loss: 0.0081 - accuracy: 0.9975 - val_loss: 0.0419 - val_accuracy: 0.9883\n",
            "Epoch 20/20\n",
            "469/469 [==============================] - 26s 55ms/step - loss: 0.0091 - accuracy: 0.9967 - val_loss: 0.0424 - val_accuracy: 0.9892\n",
            "313/313 [==============================] - 3s 9ms/step - loss: 0.0424 - accuracy: 0.9892\n",
            "Test Loss: 0.04239104688167572\n",
            "Test accuracy: 0.9891999959945679\n"
          ]
        }
      ]
    },
    {
      "cell_type": "code",
      "source": [
        "#AlexNet Implementation"
      ],
      "metadata": {
        "id": "FsKAYx1L8xv4"
      },
      "execution_count": 13,
      "outputs": []
    },
    {
      "cell_type": "code",
      "source": [
        "from tensorflow.keras import datasets, layers, models, losses, Model\n",
        "from keras.layers import Dense, Activation, Dropout, Flatten, Conv2D, MaxPooling2D\n",
        "from tensorflow.keras.layers import BatchNormalization"
      ],
      "metadata": {
        "id": "NSiaDmijKwZ_"
      },
      "execution_count": 27,
      "outputs": []
    },
    {
      "cell_type": "code",
      "source": [
        "#resizing to 224x224 as MNIST images are of 28x28\n",
        "model_alexnet = Sequential()\n",
        "model_alexnet.add(layers.experimental.preprocessing.Resizing(224, 224, interpolation=\"bilinear\", input_shape=x_train.shape[1:]))"
      ],
      "metadata": {
        "id": "A9_fGh6oIVkC"
      },
      "execution_count": 16,
      "outputs": []
    },
    {
      "cell_type": "code",
      "source": [
        "# 1st Convolutional Layer\n",
        "model_alexnet.add(Conv2D(filters=96, input_shape=(224,224,3), kernel_size=(11,11), strides=(4,4), padding='valid'))\n",
        "model_alexnet.add(Activation('relu'))\n",
        "\n",
        "# Pooling \n",
        "model_alexnet.add(MaxPooling2D(pool_size=(3,3), strides=(2,2), padding='valid'))\n",
        "# Batch Normalisation before passing it to the next layer\n",
        "model_alexnet.add(BatchNormalization())\n",
        "\n",
        "# 2nd Convolutional Layer\n",
        "model_alexnet.add(Conv2D(filters=256, kernel_size=(5,5), strides=(1,1), padding='same'))\n",
        "model_alexnet.add(Activation('relu'))\n",
        "\n",
        "# Pooling\n",
        "model_alexnet.add(MaxPooling2D(pool_size=(3,3), strides=(2,2), padding='valid'))\n",
        "# Batch Normalisation\n",
        "model_alexnet.add(BatchNormalization())\n",
        "\n",
        "\n",
        "\n",
        "# 3rd Convolutional Layer\n",
        "model_alexnet.add(Conv2D(filters=384, kernel_size=(3,3), strides=(1,1), padding='valid'))\n",
        "model_alexnet.add(Activation('relu'))\n",
        "# Batch Normalisation\n",
        "model_alexnet.add(BatchNormalization())\n",
        "\n",
        "# 4th Convolutional Layer\n",
        "model_alexnet.add(Conv2D(filters=384, kernel_size=(3,3), strides=(1,1), padding='valid'))\n",
        "model_alexnet.add(Activation('relu'))\n",
        "# Batch Normalisation\n",
        "model_alexnet.add(BatchNormalization())\n",
        "\n",
        "\n",
        "# 5th Convolutional Layer\n",
        "model_alexnet.add(Conv2D(filters=256, kernel_size=(3,3), strides=(1,1), padding='valid'))\n",
        "model_alexnet.add(Activation('relu'))\n",
        "\n",
        "\n",
        "# Pooling\n",
        "model_alexnet.add(MaxPooling2D(pool_size=(3,3), strides=(2,2), padding='valid'))\n",
        "# Batch Normalisation\n",
        "model_alexnet.add(BatchNormalization())\n",
        "\n",
        "\n",
        "# Passing it to a dense layer\n",
        "model_alexnet.add(Flatten())\n",
        "\n",
        "# 1st Dense Layer\n",
        "model_alexnet.add(Dense(4096, input_shape=(224*224*3,)))\n",
        "model_alexnet.add(Activation('relu'))\n",
        "# Add Dropout to prevent overfitting\n",
        "model_alexnet.add(Dropout(0.4))\n",
        "# Batch Normalisation\n",
        "model_alexnet.add(BatchNormalization())\n",
        "\n",
        "# 2nd Dense Layer\n",
        "model_alexnet.add(Dense(4096))\n",
        "model_alexnet.add(Activation('relu'))\n",
        "# Add Dropout\n",
        "model_alexnet.add(Dropout(0.4))\n",
        "# Batch Normalisation\n",
        "model_alexnet.add(BatchNormalization())\n",
        "\n",
        "# Output Layer\n",
        "model_alexnet.add(Dense(17))\n",
        "model_alexnet.add(Activation('softmax'))\n",
        "\n",
        "model_alexnet.summary()"
      ],
      "metadata": {
        "colab": {
          "base_uri": "https://localhost:8080/"
        },
        "id": "XLyxoedGKnGa",
        "outputId": "952daced-39f2-4f56-ff1c-b6778049fed1"
      },
      "execution_count": 18,
      "outputs": [
        {
          "output_type": "stream",
          "name": "stdout",
          "text": [
            "Model: \"sequential_3\"\n",
            "_________________________________________________________________\n",
            " Layer (type)                Output Shape              Param #   \n",
            "=================================================================\n",
            " resizing (Resizing)         (None, 224, 224, 1)       0         \n",
            "                                                                 \n",
            " conv2d_3 (Conv2D)           (None, 54, 54, 96)        11712     \n",
            "                                                                 \n",
            " activation (Activation)     (None, 54, 54, 96)        0         \n",
            "                                                                 \n",
            " max_pooling2d_2 (MaxPooling  (None, 26, 26, 96)       0         \n",
            " 2D)                                                             \n",
            "                                                                 \n",
            " batch_normalization (BatchN  (None, 26, 26, 96)       384       \n",
            " ormalization)                                                   \n",
            "                                                                 \n",
            " conv2d_4 (Conv2D)           (None, 26, 26, 256)       614656    \n",
            "                                                                 \n",
            " activation_1 (Activation)   (None, 26, 26, 256)       0         \n",
            "                                                                 \n",
            " max_pooling2d_3 (MaxPooling  (None, 12, 12, 256)      0         \n",
            " 2D)                                                             \n",
            "                                                                 \n",
            " batch_normalization_1 (Batc  (None, 12, 12, 256)      1024      \n",
            " hNormalization)                                                 \n",
            "                                                                 \n",
            " conv2d_5 (Conv2D)           (None, 10, 10, 384)       885120    \n",
            "                                                                 \n",
            " activation_2 (Activation)   (None, 10, 10, 384)       0         \n",
            "                                                                 \n",
            " batch_normalization_2 (Batc  (None, 10, 10, 384)      1536      \n",
            " hNormalization)                                                 \n",
            "                                                                 \n",
            " conv2d_6 (Conv2D)           (None, 8, 8, 384)         1327488   \n",
            "                                                                 \n",
            " activation_3 (Activation)   (None, 8, 8, 384)         0         \n",
            "                                                                 \n",
            " batch_normalization_3 (Batc  (None, 8, 8, 384)        1536      \n",
            " hNormalization)                                                 \n",
            "                                                                 \n",
            " conv2d_7 (Conv2D)           (None, 6, 6, 256)         884992    \n",
            "                                                                 \n",
            " activation_4 (Activation)   (None, 6, 6, 256)         0         \n",
            "                                                                 \n",
            " max_pooling2d_4 (MaxPooling  (None, 2, 2, 256)        0         \n",
            " 2D)                                                             \n",
            "                                                                 \n",
            " batch_normalization_4 (Batc  (None, 2, 2, 256)        1024      \n",
            " hNormalization)                                                 \n",
            "                                                                 \n",
            " flatten_1 (Flatten)         (None, 1024)              0         \n",
            "                                                                 \n",
            " dense_3 (Dense)             (None, 4096)              4198400   \n",
            "                                                                 \n",
            " activation_5 (Activation)   (None, 4096)              0         \n",
            "                                                                 \n",
            " dropout (Dropout)           (None, 4096)              0         \n",
            "                                                                 \n",
            " batch_normalization_5 (Batc  (None, 4096)             16384     \n",
            " hNormalization)                                                 \n",
            "                                                                 \n",
            " dense_4 (Dense)             (None, 4096)              16781312  \n",
            "                                                                 \n",
            " activation_6 (Activation)   (None, 4096)              0         \n",
            "                                                                 \n",
            " dropout_1 (Dropout)         (None, 4096)              0         \n",
            "                                                                 \n",
            " batch_normalization_6 (Batc  (None, 4096)             16384     \n",
            " hNormalization)                                                 \n",
            "                                                                 \n",
            " dense_5 (Dense)             (None, 17)                69649     \n",
            "                                                                 \n",
            " activation_7 (Activation)   (None, 17)                0         \n",
            "                                                                 \n",
            "=================================================================\n",
            "Total params: 24,811,601\n",
            "Trainable params: 24,792,465\n",
            "Non-trainable params: 19,136\n",
            "_________________________________________________________________\n"
          ]
        }
      ]
    },
    {
      "cell_type": "code",
      "source": [
        "x_val = x_train[-2000:,:,:,:]\n",
        "y_val = y_train[-2000:]"
      ],
      "metadata": {
        "id": "W6SGN5nULy4e"
      },
      "execution_count": 19,
      "outputs": []
    },
    {
      "cell_type": "code",
      "source": [
        "# Compile \n",
        "opt = tf.optimizers.Adam(learning_rate = 0.01)\n",
        "model.compile(optimizer=opt, loss='categorical_crossentropy', metrics=['accuracy'])\n",
        "model.fit(x_train, y_train, batch_size=64, epochs=10, validation_data=(x_val, y_val))"
      ],
      "metadata": {
        "colab": {
          "base_uri": "https://localhost:8080/"
        },
        "id": "bxcBfy2HMe9x",
        "outputId": "cf921985-0933-48ed-c5ab-b711d7c8d02a"
      },
      "execution_count": 20,
      "outputs": [
        {
          "output_type": "stream",
          "name": "stdout",
          "text": [
            "Epoch 1/10\n",
            "938/938 [==============================] - 29s 30ms/step - loss: 0.1058 - accuracy: 0.9695 - val_loss: 0.0649 - val_accuracy: 0.9870\n",
            "Epoch 2/10\n",
            "938/938 [==============================] - 27s 29ms/step - loss: 0.0897 - accuracy: 0.9758 - val_loss: 0.0472 - val_accuracy: 0.9890\n",
            "Epoch 3/10\n",
            "938/938 [==============================] - 27s 29ms/step - loss: 0.0911 - accuracy: 0.9771 - val_loss: 0.0403 - val_accuracy: 0.9885\n",
            "Epoch 4/10\n",
            "938/938 [==============================] - 27s 29ms/step - loss: 0.0765 - accuracy: 0.9804 - val_loss: 0.0349 - val_accuracy: 0.9920\n",
            "Epoch 5/10\n",
            "938/938 [==============================] - 27s 29ms/step - loss: 0.0806 - accuracy: 0.9801 - val_loss: 0.0409 - val_accuracy: 0.9925\n",
            "Epoch 6/10\n",
            "938/938 [==============================] - 27s 29ms/step - loss: 0.0785 - accuracy: 0.9815 - val_loss: 0.0335 - val_accuracy: 0.9920\n",
            "Epoch 7/10\n",
            "938/938 [==============================] - 27s 29ms/step - loss: 0.0702 - accuracy: 0.9837 - val_loss: 0.0317 - val_accuracy: 0.9915\n",
            "Epoch 8/10\n",
            "938/938 [==============================] - 27s 29ms/step - loss: 0.0634 - accuracy: 0.9846 - val_loss: 0.0505 - val_accuracy: 0.9875\n",
            "Epoch 9/10\n",
            "938/938 [==============================] - 28s 30ms/step - loss: 0.0688 - accuracy: 0.9840 - val_loss: 0.0525 - val_accuracy: 0.9855\n",
            "Epoch 10/10\n",
            "938/938 [==============================] - 28s 29ms/step - loss: 0.0603 - accuracy: 0.9867 - val_loss: 0.0515 - val_accuracy: 0.9880\n"
          ]
        },
        {
          "output_type": "execute_result",
          "data": {
            "text/plain": [
              "<keras.callbacks.History at 0x7f7e3bb7d5d0>"
            ]
          },
          "metadata": {},
          "execution_count": 20
        }
      ]
    },
    {
      "cell_type": "code",
      "source": [
        "\n",
        "model.evaluate(x_test, y_test)"
      ],
      "metadata": {
        "colab": {
          "base_uri": "https://localhost:8080/"
        },
        "id": "n2t0UmcWNmIL",
        "outputId": "cfca926a-7e89-4373-e0f9-2a3cdde0d261"
      },
      "execution_count": 21,
      "outputs": [
        {
          "output_type": "stream",
          "name": "stdout",
          "text": [
            "313/313 [==============================] - 2s 7ms/step - loss: 0.1103 - accuracy: 0.9768\n"
          ]
        },
        {
          "output_type": "execute_result",
          "data": {
            "text/plain": [
              "[0.11033188551664352, 0.9768000245094299]"
            ]
          },
          "metadata": {},
          "execution_count": 21
        }
      ]
    },
    {
      "cell_type": "code",
      "source": [
        "# Test accuracy is at 97.68%"
      ],
      "metadata": {
        "id": "m181TOa9O_NY"
      },
      "execution_count": 22,
      "outputs": []
    },
    {
      "cell_type": "code",
      "source": [
        "# VGG-16 implementation"
      ],
      "metadata": {
        "id": "ggrSCzB5PZMM"
      },
      "execution_count": 23,
      "outputs": []
    },
    {
      "cell_type": "code",
      "source": [
        "(x_train, y_train), (x_test, y_test)=tf.keras.datasets.mnist.load_data()\n",
        "x_train = tf.pad(x_train, [[0, 0], [2,2], [2,2]])/255\n",
        "x_test = tf.pad(x_test, [[0, 0], [2,2], [2,2]])/255\n",
        "x_train = tf.expand_dims(x_train, axis=3, name=None)\n",
        "x_test = tf.expand_dims(x_test, axis=3, name=None)\n",
        "x_train = tf.repeat(x_train, 3, axis=3)\n",
        "x_test = tf.repeat(x_test, 3, axis=3)\n",
        "x_val = x_train[-2000:,:,:]\n",
        "y_val = y_train[-2000:]\n",
        "x_train = x_train[:-2000,:,:]\n",
        "y_train = y_train[:-2000]"
      ],
      "metadata": {
        "id": "dwf2NLsCTR9C"
      },
      "execution_count": 24,
      "outputs": []
    },
    {
      "cell_type": "code",
      "source": [
        "\n",
        "base_model = tf.keras.applications.VGG16(weights = 'imagenet', include_top = False, input_shape = (32,32,3))\n",
        "for layer in base_model.layers:\n",
        "  layer.trainable = False\n",
        "\n",
        "base_model.summary()"
      ],
      "metadata": {
        "colab": {
          "base_uri": "https://localhost:8080/"
        },
        "id": "OoL1mYu2UGJl",
        "outputId": "3353282a-881a-49a1-989d-6fd3d1b0c26d"
      },
      "execution_count": 25,
      "outputs": [
        {
          "output_type": "stream",
          "name": "stdout",
          "text": [
            "Downloading data from https://storage.googleapis.com/tensorflow/keras-applications/vgg16/vgg16_weights_tf_dim_ordering_tf_kernels_notop.h5\n",
            "58889256/58889256 [==============================] - 0s 0us/step\n",
            "Model: \"vgg16\"\n",
            "_________________________________________________________________\n",
            " Layer (type)                Output Shape              Param #   \n",
            "=================================================================\n",
            " input_1 (InputLayer)        [(None, 32, 32, 3)]       0         \n",
            "                                                                 \n",
            " block1_conv1 (Conv2D)       (None, 32, 32, 64)        1792      \n",
            "                                                                 \n",
            " block1_conv2 (Conv2D)       (None, 32, 32, 64)        36928     \n",
            "                                                                 \n",
            " block1_pool (MaxPooling2D)  (None, 16, 16, 64)        0         \n",
            "                                                                 \n",
            " block2_conv1 (Conv2D)       (None, 16, 16, 128)       73856     \n",
            "                                                                 \n",
            " block2_conv2 (Conv2D)       (None, 16, 16, 128)       147584    \n",
            "                                                                 \n",
            " block2_pool (MaxPooling2D)  (None, 8, 8, 128)         0         \n",
            "                                                                 \n",
            " block3_conv1 (Conv2D)       (None, 8, 8, 256)         295168    \n",
            "                                                                 \n",
            " block3_conv2 (Conv2D)       (None, 8, 8, 256)         590080    \n",
            "                                                                 \n",
            " block3_conv3 (Conv2D)       (None, 8, 8, 256)         590080    \n",
            "                                                                 \n",
            " block3_pool (MaxPooling2D)  (None, 4, 4, 256)         0         \n",
            "                                                                 \n",
            " block4_conv1 (Conv2D)       (None, 4, 4, 512)         1180160   \n",
            "                                                                 \n",
            " block4_conv2 (Conv2D)       (None, 4, 4, 512)         2359808   \n",
            "                                                                 \n",
            " block4_conv3 (Conv2D)       (None, 4, 4, 512)         2359808   \n",
            "                                                                 \n",
            " block4_pool (MaxPooling2D)  (None, 2, 2, 512)         0         \n",
            "                                                                 \n",
            " block5_conv1 (Conv2D)       (None, 2, 2, 512)         2359808   \n",
            "                                                                 \n",
            " block5_conv2 (Conv2D)       (None, 2, 2, 512)         2359808   \n",
            "                                                                 \n",
            " block5_conv3 (Conv2D)       (None, 2, 2, 512)         2359808   \n",
            "                                                                 \n",
            " block5_pool (MaxPooling2D)  (None, 1, 1, 512)         0         \n",
            "                                                                 \n",
            "=================================================================\n",
            "Total params: 14,714,688\n",
            "Trainable params: 0\n",
            "Non-trainable params: 14,714,688\n",
            "_________________________________________________________________\n"
          ]
        }
      ]
    },
    {
      "cell_type": "code",
      "source": [
        "x = layers.Flatten()(base_model.output)\n",
        "x = layers.Dense(4096, activation='relu')(x)\n",
        "x = layers.Dropout(0.5)(x)\n",
        "x = layers.Dense(4096, activation='relu')(x)\n",
        "x = layers.Dropout(0.5)(x)\n",
        "predictions = layers.Dense(10, activation = 'softmax')(x)"
      ],
      "metadata": {
        "id": "_zQ3IbtKULz5"
      },
      "execution_count": 26,
      "outputs": []
    },
    {
      "cell_type": "code",
      "source": [
        "head_model = Model(inputs = base_model.input, outputs = predictions)\n",
        "head_model.compile(optimizer='adam', loss=losses.sparse_categorical_crossentropy, metrics=['accuracy'])"
      ],
      "metadata": {
        "id": "Xeyti0q9USfu"
      },
      "execution_count": 29,
      "outputs": []
    },
    {
      "cell_type": "code",
      "source": [
        "head_model.summary()"
      ],
      "metadata": {
        "colab": {
          "base_uri": "https://localhost:8080/"
        },
        "id": "miyB9I55U4fu",
        "outputId": "c7e457a2-399b-41ae-c510-9d5a396fed51"
      },
      "execution_count": 30,
      "outputs": [
        {
          "output_type": "stream",
          "name": "stdout",
          "text": [
            "Model: \"model_1\"\n",
            "_________________________________________________________________\n",
            " Layer (type)                Output Shape              Param #   \n",
            "=================================================================\n",
            " input_1 (InputLayer)        [(None, 32, 32, 3)]       0         \n",
            "                                                                 \n",
            " block1_conv1 (Conv2D)       (None, 32, 32, 64)        1792      \n",
            "                                                                 \n",
            " block1_conv2 (Conv2D)       (None, 32, 32, 64)        36928     \n",
            "                                                                 \n",
            " block1_pool (MaxPooling2D)  (None, 16, 16, 64)        0         \n",
            "                                                                 \n",
            " block2_conv1 (Conv2D)       (None, 16, 16, 128)       73856     \n",
            "                                                                 \n",
            " block2_conv2 (Conv2D)       (None, 16, 16, 128)       147584    \n",
            "                                                                 \n",
            " block2_pool (MaxPooling2D)  (None, 8, 8, 128)         0         \n",
            "                                                                 \n",
            " block3_conv1 (Conv2D)       (None, 8, 8, 256)         295168    \n",
            "                                                                 \n",
            " block3_conv2 (Conv2D)       (None, 8, 8, 256)         590080    \n",
            "                                                                 \n",
            " block3_conv3 (Conv2D)       (None, 8, 8, 256)         590080    \n",
            "                                                                 \n",
            " block3_pool (MaxPooling2D)  (None, 4, 4, 256)         0         \n",
            "                                                                 \n",
            " block4_conv1 (Conv2D)       (None, 4, 4, 512)         1180160   \n",
            "                                                                 \n",
            " block4_conv2 (Conv2D)       (None, 4, 4, 512)         2359808   \n",
            "                                                                 \n",
            " block4_conv3 (Conv2D)       (None, 4, 4, 512)         2359808   \n",
            "                                                                 \n",
            " block4_pool (MaxPooling2D)  (None, 2, 2, 512)         0         \n",
            "                                                                 \n",
            " block5_conv1 (Conv2D)       (None, 2, 2, 512)         2359808   \n",
            "                                                                 \n",
            " block5_conv2 (Conv2D)       (None, 2, 2, 512)         2359808   \n",
            "                                                                 \n",
            " block5_conv3 (Conv2D)       (None, 2, 2, 512)         2359808   \n",
            "                                                                 \n",
            " block5_pool (MaxPooling2D)  (None, 1, 1, 512)         0         \n",
            "                                                                 \n",
            " flatten_2 (Flatten)         (None, 512)               0         \n",
            "                                                                 \n",
            " dense_6 (Dense)             (None, 4096)              2101248   \n",
            "                                                                 \n",
            " dropout_2 (Dropout)         (None, 4096)              0         \n",
            "                                                                 \n",
            " dense_7 (Dense)             (None, 4096)              16781312  \n",
            "                                                                 \n",
            " dropout_3 (Dropout)         (None, 4096)              0         \n",
            "                                                                 \n",
            " dense_8 (Dense)             (None, 10)                40970     \n",
            "                                                                 \n",
            "=================================================================\n",
            "Total params: 33,638,218\n",
            "Trainable params: 18,923,530\n",
            "Non-trainable params: 14,714,688\n",
            "_________________________________________________________________\n"
          ]
        }
      ]
    },
    {
      "cell_type": "code",
      "source": [
        "head_model.fit(x_train, y_train, batch_size=64, epochs=2, validation_data=(x_val, y_val))"
      ],
      "metadata": {
        "colab": {
          "base_uri": "https://localhost:8080/"
        },
        "id": "cMLKejjjVVpj",
        "outputId": "99e5d560-a836-4de8-8c0c-30b6c3d50a6a"
      },
      "execution_count": 32,
      "outputs": [
        {
          "output_type": "stream",
          "name": "stdout",
          "text": [
            "Epoch 1/2\n",
            "907/907 [==============================] - 1042s 1s/step - loss: 0.2786 - accuracy: 0.9088 - val_loss: 0.1602 - val_accuracy: 0.9500\n",
            "Epoch 2/2\n",
            "907/907 [==============================] - 1038s 1s/step - loss: 0.2322 - accuracy: 0.9239 - val_loss: 0.1092 - val_accuracy: 0.9655\n"
          ]
        },
        {
          "output_type": "execute_result",
          "data": {
            "text/plain": [
              "<keras.callbacks.History at 0x7f7e60b2b310>"
            ]
          },
          "metadata": {},
          "execution_count": 32
        }
      ]
    },
    {
      "cell_type": "code",
      "source": [
        "head_model.evaluate(x_test, y_test)"
      ],
      "metadata": {
        "colab": {
          "base_uri": "https://localhost:8080/"
        },
        "id": "9KSNScJoVfgI",
        "outputId": "f2667583-d96e-4da8-addf-67e8c04b019d"
      },
      "execution_count": 33,
      "outputs": [
        {
          "output_type": "stream",
          "name": "stdout",
          "text": [
            "313/313 [==============================] - 122s 390ms/step - loss: 0.1375 - accuracy: 0.9532\n"
          ]
        },
        {
          "output_type": "execute_result",
          "data": {
            "text/plain": [
              "[0.1375196874141693, 0.9531999826431274]"
            ]
          },
          "metadata": {},
          "execution_count": 33
        }
      ]
    },
    {
      "cell_type": "code",
      "source": [],
      "metadata": {
        "id": "Y2sEJYeXfubq"
      },
      "execution_count": null,
      "outputs": []
    }
  ]
}