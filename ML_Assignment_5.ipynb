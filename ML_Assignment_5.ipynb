{
  "nbformat": 4,
  "nbformat_minor": 0,
  "metadata": {
    "colab": {
      "provenance": []
    },
    "kernelspec": {
      "name": "python3",
      "display_name": "Python 3"
    },
    "language_info": {
      "name": "python"
    }
  },
  "cells": [
    {
      "cell_type": "code",
      "execution_count": null,
      "metadata": {
        "id": "48lPpU0-zLwd"
      },
      "outputs": [],
      "source": []
    },
    {
      "cell_type": "code",
      "source": [
        "import pandas as pd\n",
        "import numpy as np\n",
        "import matplotlib.pyplot as plt\n",
        "import seaborn as sns\n",
        "import math\n",
        "import plotly\n",
        "import warnings\n",
        "\n",
        "warnings.filterwarnings('ignore')\n",
        "pd.options.display.max_rows = None\n",
        "pd.options.display.max_columns = None"
      ],
      "metadata": {
        "id": "RKD5vnAszY-p"
      },
      "execution_count": 6,
      "outputs": []
    },
    {
      "cell_type": "code",
      "source": [
        "\n",
        "df = pd.read_csv(\"/content/sample_data/rideshare_kaggle.csv\")\n",
        "df.head()"
      ],
      "metadata": {
        "colab": {
          "base_uri": "https://localhost:8080/",
          "height": 531
        },
        "id": "qf68C7yY0Pdh",
        "outputId": "0bc005f0-5a54-4560-a057-c0d667137a61"
      },
      "execution_count": 9,
      "outputs": [
        {
          "output_type": "execute_result",
          "data": {
            "text/plain": [
              "                                     id     timestamp  hour  day  month  \\\n",
              "0  424553bb-7174-41ea-aeb4-fe06d4f4b9d7  1.544953e+09     9   16     12   \n",
              "1  4bd23055-6827-41c6-b23b-3c491f24e74d  1.543284e+09     2   27     11   \n",
              "2  981a3613-77af-4620-a42a-0c0866077d1e  1.543367e+09     1   28     11   \n",
              "3  c2d88af2-d278-4bfd-a8d0-29ca77cc5512  1.543554e+09     4   30     11   \n",
              "4  e0126e1f-8ca9-4f2e-82b3-50505a09db9a  1.543463e+09     3   29     11   \n",
              "\n",
              "              datetime          timezone            source    destination  \\\n",
              "0  2018-12-16 09:30:07  America/New_York  Haymarket Square  North Station   \n",
              "1  2018-11-27 02:00:23  America/New_York  Haymarket Square  North Station   \n",
              "2  2018-11-28 01:00:22  America/New_York  Haymarket Square  North Station   \n",
              "3  2018-11-30 04:53:02  America/New_York  Haymarket Square  North Station   \n",
              "4  2018-11-29 03:49:20  America/New_York  Haymarket Square  North Station   \n",
              "\n",
              "  cab_type    product_id          name  price  distance  surge_multiplier  \\\n",
              "0     Lyft     lyft_line        Shared    5.0      0.44               1.0   \n",
              "1     Lyft  lyft_premier           Lux   11.0      0.44               1.0   \n",
              "2     Lyft          lyft          Lyft    7.0      0.44               1.0   \n",
              "3     Lyft   lyft_luxsuv  Lux Black XL   26.0      0.44               1.0   \n",
              "4     Lyft     lyft_plus       Lyft XL    9.0      0.44               1.0   \n",
              "\n",
              "   latitude  longitude  temperature  apparentTemperature    short_summary  \\\n",
              "0   42.2148    -71.033        42.34                37.12   Mostly Cloudy    \n",
              "1   42.2148    -71.033        43.58                37.35            Rain    \n",
              "2   42.2148    -71.033        38.33                32.93           Clear    \n",
              "3   42.2148    -71.033        34.38                29.63           Clear    \n",
              "4   42.2148    -71.033        37.44                30.88   Partly Cloudy    \n",
              "\n",
              "                                        long_summary  precipIntensity  \\\n",
              "0                          Rain throughout the day.            0.0000   \n",
              "1   Rain until morning, starting again in the eve...           0.1299   \n",
              "2                        Light rain in the morning.            0.0000   \n",
              "3                 Partly cloudy throughout the day.            0.0000   \n",
              "4                 Mostly cloudy throughout the day.            0.0000   \n",
              "\n",
              "   precipProbability  humidity  windSpeed  windGust  windGustTime  visibility  \\\n",
              "0                0.0      0.68       8.66      9.17    1545015600      10.000   \n",
              "1                1.0      0.94      11.98     11.98    1543291200       4.786   \n",
              "2                0.0      0.75       7.33      7.33    1543334400      10.000   \n",
              "3                0.0      0.73       5.28      5.28    1543514400      10.000   \n",
              "4                0.0      0.70       9.14      9.14    1543446000      10.000   \n",
              "\n",
              "   temperatureHigh  temperatureHighTime  temperatureLow  temperatureLowTime  \\\n",
              "0            43.68           1544968800           34.19          1545048000   \n",
              "1            47.30           1543251600           42.10          1543298400   \n",
              "2            47.55           1543320000           33.10          1543402800   \n",
              "3            45.03           1543510800           28.90          1543579200   \n",
              "4            42.18           1543420800           36.71          1543478400   \n",
              "\n",
              "   apparentTemperatureHigh  apparentTemperatureHighTime  \\\n",
              "0                    37.95                   1544968800   \n",
              "1                    43.92                   1543251600   \n",
              "2                    44.12                   1543320000   \n",
              "3                    38.53                   1543510800   \n",
              "4                    35.75                   1543420800   \n",
              "\n",
              "   apparentTemperatureLow  apparentTemperatureLowTime                   icon  \\\n",
              "0                   27.39                  1545044400   partly-cloudy-night    \n",
              "1                   36.20                  1543291200                  rain    \n",
              "2                   29.11                  1543392000           clear-night    \n",
              "3                   26.20                  1543575600           clear-night    \n",
              "4                   30.29                  1543460400   partly-cloudy-night    \n",
              "\n",
              "   dewPoint  pressure  windBearing  cloudCover  uvIndex  visibility.1  ozone  \\\n",
              "0     32.70   1021.98         57.0        0.72      0.0        10.000  303.8   \n",
              "1     41.83   1003.97         90.0        1.00      0.0         4.786  291.1   \n",
              "2     31.10    992.28        240.0        0.03      0.0        10.000  315.7   \n",
              "3     26.64   1013.73        310.0        0.00      0.0        10.000  291.1   \n",
              "4     28.61    998.36        303.0        0.44      0.0        10.000  347.7   \n",
              "\n",
              "    sunriseTime    sunsetTime  moonPhase  precipIntensityMax   uvIndexTime  \\\n",
              "0  1.544962e+09  1.544995e+09       0.30              0.1276  1.544980e+09   \n",
              "1  1.543233e+09  1.543267e+09       0.64              0.1300  1.543252e+09   \n",
              "2  1.543319e+09  1.543353e+09       0.68              0.1064  1.543338e+09   \n",
              "3  1.543492e+09  1.543526e+09       0.75              0.0000  1.543507e+09   \n",
              "4  1.543406e+09  1.543440e+09       0.72              0.0001  1.543421e+09   \n",
              "\n",
              "   temperatureMin  temperatureMinTime  temperatureMax  temperatureMaxTime  \\\n",
              "0           39.89        1.545012e+09           43.68        1.544969e+09   \n",
              "1           40.49        1.543234e+09           47.30        1.543252e+09   \n",
              "2           35.36        1.543378e+09           47.55        1.543320e+09   \n",
              "3           34.67        1.543550e+09           45.03        1.543511e+09   \n",
              "4           33.10        1.543403e+09           42.18        1.543421e+09   \n",
              "\n",
              "   apparentTemperatureMin  apparentTemperatureMinTime  apparentTemperatureMax  \\\n",
              "0                   33.73                1.545012e+09                   38.07   \n",
              "1                   36.20                1.543291e+09                   43.92   \n",
              "2                   31.04                1.543378e+09                   44.12   \n",
              "3                   30.30                1.543550e+09                   38.53   \n",
              "4                   29.11                1.543392e+09                   35.75   \n",
              "\n",
              "   apparentTemperatureMaxTime  \n",
              "0                1.544958e+09  \n",
              "1                1.543252e+09  \n",
              "2                1.543320e+09  \n",
              "3                1.543511e+09  \n",
              "4                1.543421e+09  "
            ],
            "text/html": [
              "\n",
              "  <div id=\"df-967c3b99-6d13-41f3-a06f-54cb4b213ce5\">\n",
              "    <div class=\"colab-df-container\">\n",
              "      <div>\n",
              "<style scoped>\n",
              "    .dataframe tbody tr th:only-of-type {\n",
              "        vertical-align: middle;\n",
              "    }\n",
              "\n",
              "    .dataframe tbody tr th {\n",
              "        vertical-align: top;\n",
              "    }\n",
              "\n",
              "    .dataframe thead th {\n",
              "        text-align: right;\n",
              "    }\n",
              "</style>\n",
              "<table border=\"1\" class=\"dataframe\">\n",
              "  <thead>\n",
              "    <tr style=\"text-align: right;\">\n",
              "      <th></th>\n",
              "      <th>id</th>\n",
              "      <th>timestamp</th>\n",
              "      <th>hour</th>\n",
              "      <th>day</th>\n",
              "      <th>month</th>\n",
              "      <th>datetime</th>\n",
              "      <th>timezone</th>\n",
              "      <th>source</th>\n",
              "      <th>destination</th>\n",
              "      <th>cab_type</th>\n",
              "      <th>product_id</th>\n",
              "      <th>name</th>\n",
              "      <th>price</th>\n",
              "      <th>distance</th>\n",
              "      <th>surge_multiplier</th>\n",
              "      <th>latitude</th>\n",
              "      <th>longitude</th>\n",
              "      <th>temperature</th>\n",
              "      <th>apparentTemperature</th>\n",
              "      <th>short_summary</th>\n",
              "      <th>long_summary</th>\n",
              "      <th>precipIntensity</th>\n",
              "      <th>precipProbability</th>\n",
              "      <th>humidity</th>\n",
              "      <th>windSpeed</th>\n",
              "      <th>windGust</th>\n",
              "      <th>windGustTime</th>\n",
              "      <th>visibility</th>\n",
              "      <th>temperatureHigh</th>\n",
              "      <th>temperatureHighTime</th>\n",
              "      <th>temperatureLow</th>\n",
              "      <th>temperatureLowTime</th>\n",
              "      <th>apparentTemperatureHigh</th>\n",
              "      <th>apparentTemperatureHighTime</th>\n",
              "      <th>apparentTemperatureLow</th>\n",
              "      <th>apparentTemperatureLowTime</th>\n",
              "      <th>icon</th>\n",
              "      <th>dewPoint</th>\n",
              "      <th>pressure</th>\n",
              "      <th>windBearing</th>\n",
              "      <th>cloudCover</th>\n",
              "      <th>uvIndex</th>\n",
              "      <th>visibility.1</th>\n",
              "      <th>ozone</th>\n",
              "      <th>sunriseTime</th>\n",
              "      <th>sunsetTime</th>\n",
              "      <th>moonPhase</th>\n",
              "      <th>precipIntensityMax</th>\n",
              "      <th>uvIndexTime</th>\n",
              "      <th>temperatureMin</th>\n",
              "      <th>temperatureMinTime</th>\n",
              "      <th>temperatureMax</th>\n",
              "      <th>temperatureMaxTime</th>\n",
              "      <th>apparentTemperatureMin</th>\n",
              "      <th>apparentTemperatureMinTime</th>\n",
              "      <th>apparentTemperatureMax</th>\n",
              "      <th>apparentTemperatureMaxTime</th>\n",
              "    </tr>\n",
              "  </thead>\n",
              "  <tbody>\n",
              "    <tr>\n",
              "      <th>0</th>\n",
              "      <td>424553bb-7174-41ea-aeb4-fe06d4f4b9d7</td>\n",
              "      <td>1.544953e+09</td>\n",
              "      <td>9</td>\n",
              "      <td>16</td>\n",
              "      <td>12</td>\n",
              "      <td>2018-12-16 09:30:07</td>\n",
              "      <td>America/New_York</td>\n",
              "      <td>Haymarket Square</td>\n",
              "      <td>North Station</td>\n",
              "      <td>Lyft</td>\n",
              "      <td>lyft_line</td>\n",
              "      <td>Shared</td>\n",
              "      <td>5.0</td>\n",
              "      <td>0.44</td>\n",
              "      <td>1.0</td>\n",
              "      <td>42.2148</td>\n",
              "      <td>-71.033</td>\n",
              "      <td>42.34</td>\n",
              "      <td>37.12</td>\n",
              "      <td>Mostly Cloudy</td>\n",
              "      <td>Rain throughout the day.</td>\n",
              "      <td>0.0000</td>\n",
              "      <td>0.0</td>\n",
              "      <td>0.68</td>\n",
              "      <td>8.66</td>\n",
              "      <td>9.17</td>\n",
              "      <td>1545015600</td>\n",
              "      <td>10.000</td>\n",
              "      <td>43.68</td>\n",
              "      <td>1544968800</td>\n",
              "      <td>34.19</td>\n",
              "      <td>1545048000</td>\n",
              "      <td>37.95</td>\n",
              "      <td>1544968800</td>\n",
              "      <td>27.39</td>\n",
              "      <td>1545044400</td>\n",
              "      <td>partly-cloudy-night</td>\n",
              "      <td>32.70</td>\n",
              "      <td>1021.98</td>\n",
              "      <td>57.0</td>\n",
              "      <td>0.72</td>\n",
              "      <td>0.0</td>\n",
              "      <td>10.000</td>\n",
              "      <td>303.8</td>\n",
              "      <td>1.544962e+09</td>\n",
              "      <td>1.544995e+09</td>\n",
              "      <td>0.30</td>\n",
              "      <td>0.1276</td>\n",
              "      <td>1.544980e+09</td>\n",
              "      <td>39.89</td>\n",
              "      <td>1.545012e+09</td>\n",
              "      <td>43.68</td>\n",
              "      <td>1.544969e+09</td>\n",
              "      <td>33.73</td>\n",
              "      <td>1.545012e+09</td>\n",
              "      <td>38.07</td>\n",
              "      <td>1.544958e+09</td>\n",
              "    </tr>\n",
              "    <tr>\n",
              "      <th>1</th>\n",
              "      <td>4bd23055-6827-41c6-b23b-3c491f24e74d</td>\n",
              "      <td>1.543284e+09</td>\n",
              "      <td>2</td>\n",
              "      <td>27</td>\n",
              "      <td>11</td>\n",
              "      <td>2018-11-27 02:00:23</td>\n",
              "      <td>America/New_York</td>\n",
              "      <td>Haymarket Square</td>\n",
              "      <td>North Station</td>\n",
              "      <td>Lyft</td>\n",
              "      <td>lyft_premier</td>\n",
              "      <td>Lux</td>\n",
              "      <td>11.0</td>\n",
              "      <td>0.44</td>\n",
              "      <td>1.0</td>\n",
              "      <td>42.2148</td>\n",
              "      <td>-71.033</td>\n",
              "      <td>43.58</td>\n",
              "      <td>37.35</td>\n",
              "      <td>Rain</td>\n",
              "      <td>Rain until morning, starting again in the eve...</td>\n",
              "      <td>0.1299</td>\n",
              "      <td>1.0</td>\n",
              "      <td>0.94</td>\n",
              "      <td>11.98</td>\n",
              "      <td>11.98</td>\n",
              "      <td>1543291200</td>\n",
              "      <td>4.786</td>\n",
              "      <td>47.30</td>\n",
              "      <td>1543251600</td>\n",
              "      <td>42.10</td>\n",
              "      <td>1543298400</td>\n",
              "      <td>43.92</td>\n",
              "      <td>1543251600</td>\n",
              "      <td>36.20</td>\n",
              "      <td>1543291200</td>\n",
              "      <td>rain</td>\n",
              "      <td>41.83</td>\n",
              "      <td>1003.97</td>\n",
              "      <td>90.0</td>\n",
              "      <td>1.00</td>\n",
              "      <td>0.0</td>\n",
              "      <td>4.786</td>\n",
              "      <td>291.1</td>\n",
              "      <td>1.543233e+09</td>\n",
              "      <td>1.543267e+09</td>\n",
              "      <td>0.64</td>\n",
              "      <td>0.1300</td>\n",
              "      <td>1.543252e+09</td>\n",
              "      <td>40.49</td>\n",
              "      <td>1.543234e+09</td>\n",
              "      <td>47.30</td>\n",
              "      <td>1.543252e+09</td>\n",
              "      <td>36.20</td>\n",
              "      <td>1.543291e+09</td>\n",
              "      <td>43.92</td>\n",
              "      <td>1.543252e+09</td>\n",
              "    </tr>\n",
              "    <tr>\n",
              "      <th>2</th>\n",
              "      <td>981a3613-77af-4620-a42a-0c0866077d1e</td>\n",
              "      <td>1.543367e+09</td>\n",
              "      <td>1</td>\n",
              "      <td>28</td>\n",
              "      <td>11</td>\n",
              "      <td>2018-11-28 01:00:22</td>\n",
              "      <td>America/New_York</td>\n",
              "      <td>Haymarket Square</td>\n",
              "      <td>North Station</td>\n",
              "      <td>Lyft</td>\n",
              "      <td>lyft</td>\n",
              "      <td>Lyft</td>\n",
              "      <td>7.0</td>\n",
              "      <td>0.44</td>\n",
              "      <td>1.0</td>\n",
              "      <td>42.2148</td>\n",
              "      <td>-71.033</td>\n",
              "      <td>38.33</td>\n",
              "      <td>32.93</td>\n",
              "      <td>Clear</td>\n",
              "      <td>Light rain in the morning.</td>\n",
              "      <td>0.0000</td>\n",
              "      <td>0.0</td>\n",
              "      <td>0.75</td>\n",
              "      <td>7.33</td>\n",
              "      <td>7.33</td>\n",
              "      <td>1543334400</td>\n",
              "      <td>10.000</td>\n",
              "      <td>47.55</td>\n",
              "      <td>1543320000</td>\n",
              "      <td>33.10</td>\n",
              "      <td>1543402800</td>\n",
              "      <td>44.12</td>\n",
              "      <td>1543320000</td>\n",
              "      <td>29.11</td>\n",
              "      <td>1543392000</td>\n",
              "      <td>clear-night</td>\n",
              "      <td>31.10</td>\n",
              "      <td>992.28</td>\n",
              "      <td>240.0</td>\n",
              "      <td>0.03</td>\n",
              "      <td>0.0</td>\n",
              "      <td>10.000</td>\n",
              "      <td>315.7</td>\n",
              "      <td>1.543319e+09</td>\n",
              "      <td>1.543353e+09</td>\n",
              "      <td>0.68</td>\n",
              "      <td>0.1064</td>\n",
              "      <td>1.543338e+09</td>\n",
              "      <td>35.36</td>\n",
              "      <td>1.543378e+09</td>\n",
              "      <td>47.55</td>\n",
              "      <td>1.543320e+09</td>\n",
              "      <td>31.04</td>\n",
              "      <td>1.543378e+09</td>\n",
              "      <td>44.12</td>\n",
              "      <td>1.543320e+09</td>\n",
              "    </tr>\n",
              "    <tr>\n",
              "      <th>3</th>\n",
              "      <td>c2d88af2-d278-4bfd-a8d0-29ca77cc5512</td>\n",
              "      <td>1.543554e+09</td>\n",
              "      <td>4</td>\n",
              "      <td>30</td>\n",
              "      <td>11</td>\n",
              "      <td>2018-11-30 04:53:02</td>\n",
              "      <td>America/New_York</td>\n",
              "      <td>Haymarket Square</td>\n",
              "      <td>North Station</td>\n",
              "      <td>Lyft</td>\n",
              "      <td>lyft_luxsuv</td>\n",
              "      <td>Lux Black XL</td>\n",
              "      <td>26.0</td>\n",
              "      <td>0.44</td>\n",
              "      <td>1.0</td>\n",
              "      <td>42.2148</td>\n",
              "      <td>-71.033</td>\n",
              "      <td>34.38</td>\n",
              "      <td>29.63</td>\n",
              "      <td>Clear</td>\n",
              "      <td>Partly cloudy throughout the day.</td>\n",
              "      <td>0.0000</td>\n",
              "      <td>0.0</td>\n",
              "      <td>0.73</td>\n",
              "      <td>5.28</td>\n",
              "      <td>5.28</td>\n",
              "      <td>1543514400</td>\n",
              "      <td>10.000</td>\n",
              "      <td>45.03</td>\n",
              "      <td>1543510800</td>\n",
              "      <td>28.90</td>\n",
              "      <td>1543579200</td>\n",
              "      <td>38.53</td>\n",
              "      <td>1543510800</td>\n",
              "      <td>26.20</td>\n",
              "      <td>1543575600</td>\n",
              "      <td>clear-night</td>\n",
              "      <td>26.64</td>\n",
              "      <td>1013.73</td>\n",
              "      <td>310.0</td>\n",
              "      <td>0.00</td>\n",
              "      <td>0.0</td>\n",
              "      <td>10.000</td>\n",
              "      <td>291.1</td>\n",
              "      <td>1.543492e+09</td>\n",
              "      <td>1.543526e+09</td>\n",
              "      <td>0.75</td>\n",
              "      <td>0.0000</td>\n",
              "      <td>1.543507e+09</td>\n",
              "      <td>34.67</td>\n",
              "      <td>1.543550e+09</td>\n",
              "      <td>45.03</td>\n",
              "      <td>1.543511e+09</td>\n",
              "      <td>30.30</td>\n",
              "      <td>1.543550e+09</td>\n",
              "      <td>38.53</td>\n",
              "      <td>1.543511e+09</td>\n",
              "    </tr>\n",
              "    <tr>\n",
              "      <th>4</th>\n",
              "      <td>e0126e1f-8ca9-4f2e-82b3-50505a09db9a</td>\n",
              "      <td>1.543463e+09</td>\n",
              "      <td>3</td>\n",
              "      <td>29</td>\n",
              "      <td>11</td>\n",
              "      <td>2018-11-29 03:49:20</td>\n",
              "      <td>America/New_York</td>\n",
              "      <td>Haymarket Square</td>\n",
              "      <td>North Station</td>\n",
              "      <td>Lyft</td>\n",
              "      <td>lyft_plus</td>\n",
              "      <td>Lyft XL</td>\n",
              "      <td>9.0</td>\n",
              "      <td>0.44</td>\n",
              "      <td>1.0</td>\n",
              "      <td>42.2148</td>\n",
              "      <td>-71.033</td>\n",
              "      <td>37.44</td>\n",
              "      <td>30.88</td>\n",
              "      <td>Partly Cloudy</td>\n",
              "      <td>Mostly cloudy throughout the day.</td>\n",
              "      <td>0.0000</td>\n",
              "      <td>0.0</td>\n",
              "      <td>0.70</td>\n",
              "      <td>9.14</td>\n",
              "      <td>9.14</td>\n",
              "      <td>1543446000</td>\n",
              "      <td>10.000</td>\n",
              "      <td>42.18</td>\n",
              "      <td>1543420800</td>\n",
              "      <td>36.71</td>\n",
              "      <td>1543478400</td>\n",
              "      <td>35.75</td>\n",
              "      <td>1543420800</td>\n",
              "      <td>30.29</td>\n",
              "      <td>1543460400</td>\n",
              "      <td>partly-cloudy-night</td>\n",
              "      <td>28.61</td>\n",
              "      <td>998.36</td>\n",
              "      <td>303.0</td>\n",
              "      <td>0.44</td>\n",
              "      <td>0.0</td>\n",
              "      <td>10.000</td>\n",
              "      <td>347.7</td>\n",
              "      <td>1.543406e+09</td>\n",
              "      <td>1.543440e+09</td>\n",
              "      <td>0.72</td>\n",
              "      <td>0.0001</td>\n",
              "      <td>1.543421e+09</td>\n",
              "      <td>33.10</td>\n",
              "      <td>1.543403e+09</td>\n",
              "      <td>42.18</td>\n",
              "      <td>1.543421e+09</td>\n",
              "      <td>29.11</td>\n",
              "      <td>1.543392e+09</td>\n",
              "      <td>35.75</td>\n",
              "      <td>1.543421e+09</td>\n",
              "    </tr>\n",
              "  </tbody>\n",
              "</table>\n",
              "</div>\n",
              "      <button class=\"colab-df-convert\" onclick=\"convertToInteractive('df-967c3b99-6d13-41f3-a06f-54cb4b213ce5')\"\n",
              "              title=\"Convert this dataframe to an interactive table.\"\n",
              "              style=\"display:none;\">\n",
              "        \n",
              "  <svg xmlns=\"http://www.w3.org/2000/svg\" height=\"24px\"viewBox=\"0 0 24 24\"\n",
              "       width=\"24px\">\n",
              "    <path d=\"M0 0h24v24H0V0z\" fill=\"none\"/>\n",
              "    <path d=\"M18.56 5.44l.94 2.06.94-2.06 2.06-.94-2.06-.94-.94-2.06-.94 2.06-2.06.94zm-11 1L8.5 8.5l.94-2.06 2.06-.94-2.06-.94L8.5 2.5l-.94 2.06-2.06.94zm10 10l.94 2.06.94-2.06 2.06-.94-2.06-.94-.94-2.06-.94 2.06-2.06.94z\"/><path d=\"M17.41 7.96l-1.37-1.37c-.4-.4-.92-.59-1.43-.59-.52 0-1.04.2-1.43.59L10.3 9.45l-7.72 7.72c-.78.78-.78 2.05 0 2.83L4 21.41c.39.39.9.59 1.41.59.51 0 1.02-.2 1.41-.59l7.78-7.78 2.81-2.81c.8-.78.8-2.07 0-2.86zM5.41 20L4 18.59l7.72-7.72 1.47 1.35L5.41 20z\"/>\n",
              "  </svg>\n",
              "      </button>\n",
              "      \n",
              "  <style>\n",
              "    .colab-df-container {\n",
              "      display:flex;\n",
              "      flex-wrap:wrap;\n",
              "      gap: 12px;\n",
              "    }\n",
              "\n",
              "    .colab-df-convert {\n",
              "      background-color: #E8F0FE;\n",
              "      border: none;\n",
              "      border-radius: 50%;\n",
              "      cursor: pointer;\n",
              "      display: none;\n",
              "      fill: #1967D2;\n",
              "      height: 32px;\n",
              "      padding: 0 0 0 0;\n",
              "      width: 32px;\n",
              "    }\n",
              "\n",
              "    .colab-df-convert:hover {\n",
              "      background-color: #E2EBFA;\n",
              "      box-shadow: 0px 1px 2px rgba(60, 64, 67, 0.3), 0px 1px 3px 1px rgba(60, 64, 67, 0.15);\n",
              "      fill: #174EA6;\n",
              "    }\n",
              "\n",
              "    [theme=dark] .colab-df-convert {\n",
              "      background-color: #3B4455;\n",
              "      fill: #D2E3FC;\n",
              "    }\n",
              "\n",
              "    [theme=dark] .colab-df-convert:hover {\n",
              "      background-color: #434B5C;\n",
              "      box-shadow: 0px 1px 3px 1px rgba(0, 0, 0, 0.15);\n",
              "      filter: drop-shadow(0px 1px 2px rgba(0, 0, 0, 0.3));\n",
              "      fill: #FFFFFF;\n",
              "    }\n",
              "  </style>\n",
              "\n",
              "      <script>\n",
              "        const buttonEl =\n",
              "          document.querySelector('#df-967c3b99-6d13-41f3-a06f-54cb4b213ce5 button.colab-df-convert');\n",
              "        buttonEl.style.display =\n",
              "          google.colab.kernel.accessAllowed ? 'block' : 'none';\n",
              "\n",
              "        async function convertToInteractive(key) {\n",
              "          const element = document.querySelector('#df-967c3b99-6d13-41f3-a06f-54cb4b213ce5');\n",
              "          const dataTable =\n",
              "            await google.colab.kernel.invokeFunction('convertToInteractive',\n",
              "                                                     [key], {});\n",
              "          if (!dataTable) return;\n",
              "\n",
              "          const docLinkHtml = 'Like what you see? Visit the ' +\n",
              "            '<a target=\"_blank\" href=https://colab.research.google.com/notebooks/data_table.ipynb>data table notebook</a>'\n",
              "            + ' to learn more about interactive tables.';\n",
              "          element.innerHTML = '';\n",
              "          dataTable['output_type'] = 'display_data';\n",
              "          await google.colab.output.renderOutput(dataTable, element);\n",
              "          const docLink = document.createElement('div');\n",
              "          docLink.innerHTML = docLinkHtml;\n",
              "          element.appendChild(docLink);\n",
              "        }\n",
              "      </script>\n",
              "    </div>\n",
              "  </div>\n",
              "  "
            ]
          },
          "metadata": {},
          "execution_count": 9
        }
      ]
    },
    {
      "cell_type": "code",
      "source": [
        "df1 = df.copy()\n",
        "df1.info()"
      ],
      "metadata": {
        "colab": {
          "base_uri": "https://localhost:8080/"
        },
        "id": "AGyOikpCzZt7",
        "outputId": "8a3cb280-7771-4570-c494-c454d2da7a36"
      },
      "execution_count": 10,
      "outputs": [
        {
          "output_type": "stream",
          "name": "stdout",
          "text": [
            "<class 'pandas.core.frame.DataFrame'>\n",
            "RangeIndex: 106773 entries, 0 to 106772\n",
            "Data columns (total 57 columns):\n",
            " #   Column                       Non-Null Count   Dtype  \n",
            "---  ------                       --------------   -----  \n",
            " 0   id                           106773 non-null  object \n",
            " 1   timestamp                    106773 non-null  float64\n",
            " 2   hour                         106773 non-null  int64  \n",
            " 3   day                          106773 non-null  int64  \n",
            " 4   month                        106773 non-null  int64  \n",
            " 5   datetime                     106773 non-null  object \n",
            " 6   timezone                     106773 non-null  object \n",
            " 7   source                       106773 non-null  object \n",
            " 8   destination                  106773 non-null  object \n",
            " 9   cab_type                     106773 non-null  object \n",
            " 10  product_id                   106773 non-null  object \n",
            " 11  name                         106773 non-null  object \n",
            " 12  price                        98314 non-null   float64\n",
            " 13  distance                     106773 non-null  float64\n",
            " 14  surge_multiplier             106773 non-null  float64\n",
            " 15  latitude                     106773 non-null  float64\n",
            " 16  longitude                    106773 non-null  float64\n",
            " 17  temperature                  106773 non-null  float64\n",
            " 18  apparentTemperature          106773 non-null  float64\n",
            " 19  short_summary                106773 non-null  object \n",
            " 20  long_summary                 106773 non-null  object \n",
            " 21  precipIntensity              106773 non-null  float64\n",
            " 22  precipProbability            106773 non-null  float64\n",
            " 23  humidity                     106773 non-null  float64\n",
            " 24  windSpeed                    106773 non-null  float64\n",
            " 25  windGust                     106773 non-null  float64\n",
            " 26  windGustTime                 106773 non-null  int64  \n",
            " 27  visibility                   106773 non-null  float64\n",
            " 28  temperatureHigh              106773 non-null  float64\n",
            " 29  temperatureHighTime          106773 non-null  int64  \n",
            " 30  temperatureLow               106773 non-null  float64\n",
            " 31  temperatureLowTime           106773 non-null  int64  \n",
            " 32  apparentTemperatureHigh      106773 non-null  float64\n",
            " 33  apparentTemperatureHighTime  106773 non-null  int64  \n",
            " 34  apparentTemperatureLow       106773 non-null  float64\n",
            " 35  apparentTemperatureLowTime   106773 non-null  int64  \n",
            " 36  icon                         106773 non-null  object \n",
            " 37  dewPoint                     106773 non-null  float64\n",
            " 38  pressure                     106772 non-null  float64\n",
            " 39  windBearing                  106772 non-null  float64\n",
            " 40  cloudCover                   106772 non-null  float64\n",
            " 41  uvIndex                      106772 non-null  float64\n",
            " 42  visibility.1                 106772 non-null  float64\n",
            " 43  ozone                        106772 non-null  float64\n",
            " 44  sunriseTime                  106772 non-null  float64\n",
            " 45  sunsetTime                   106772 non-null  float64\n",
            " 46  moonPhase                    106772 non-null  float64\n",
            " 47  precipIntensityMax           106772 non-null  float64\n",
            " 48  uvIndexTime                  106772 non-null  float64\n",
            " 49  temperatureMin               106772 non-null  float64\n",
            " 50  temperatureMinTime           106772 non-null  float64\n",
            " 51  temperatureMax               106772 non-null  float64\n",
            " 52  temperatureMaxTime           106772 non-null  float64\n",
            " 53  apparentTemperatureMin       106772 non-null  float64\n",
            " 54  apparentTemperatureMinTime   106772 non-null  float64\n",
            " 55  apparentTemperatureMax       106772 non-null  float64\n",
            " 56  apparentTemperatureMaxTime   106772 non-null  float64\n",
            "dtypes: float64(38), int64(8), object(11)\n",
            "memory usage: 46.4+ MB\n"
          ]
        }
      ]
    },
    {
      "cell_type": "code",
      "source": [
        "df1.duplicated().sum()"
      ],
      "metadata": {
        "colab": {
          "base_uri": "https://localhost:8080/"
        },
        "id": "Uz3N857t47B1",
        "outputId": "c23f55fe-1036-4fcf-dce9-1cd1c4314c75"
      },
      "execution_count": 11,
      "outputs": [
        {
          "output_type": "execute_result",
          "data": {
            "text/plain": [
              "0"
            ]
          },
          "metadata": {},
          "execution_count": 11
        }
      ]
    },
    {
      "cell_type": "code",
      "source": [
        "df1.isnull().sum()"
      ],
      "metadata": {
        "colab": {
          "base_uri": "https://localhost:8080/"
        },
        "id": "hhLyoWlrzgWf",
        "outputId": "4a2a5cd6-c0fd-4e83-811e-6609b022f3ec"
      },
      "execution_count": 12,
      "outputs": [
        {
          "output_type": "execute_result",
          "data": {
            "text/plain": [
              "id                                0\n",
              "timestamp                         0\n",
              "hour                              0\n",
              "day                               0\n",
              "month                             0\n",
              "datetime                          0\n",
              "timezone                          0\n",
              "source                            0\n",
              "destination                       0\n",
              "cab_type                          0\n",
              "product_id                        0\n",
              "name                              0\n",
              "price                          8459\n",
              "distance                          0\n",
              "surge_multiplier                  0\n",
              "latitude                          0\n",
              "longitude                         0\n",
              "temperature                       0\n",
              "apparentTemperature               0\n",
              "short_summary                     0\n",
              "long_summary                      0\n",
              "precipIntensity                   0\n",
              "precipProbability                 0\n",
              "humidity                          0\n",
              "windSpeed                         0\n",
              "windGust                          0\n",
              "windGustTime                      0\n",
              "visibility                        0\n",
              "temperatureHigh                   0\n",
              "temperatureHighTime               0\n",
              "temperatureLow                    0\n",
              "temperatureLowTime                0\n",
              "apparentTemperatureHigh           0\n",
              "apparentTemperatureHighTime       0\n",
              "apparentTemperatureLow            0\n",
              "apparentTemperatureLowTime        0\n",
              "icon                              0\n",
              "dewPoint                          0\n",
              "pressure                          1\n",
              "windBearing                       1\n",
              "cloudCover                        1\n",
              "uvIndex                           1\n",
              "visibility.1                      1\n",
              "ozone                             1\n",
              "sunriseTime                       1\n",
              "sunsetTime                        1\n",
              "moonPhase                         1\n",
              "precipIntensityMax                1\n",
              "uvIndexTime                       1\n",
              "temperatureMin                    1\n",
              "temperatureMinTime                1\n",
              "temperatureMax                    1\n",
              "temperatureMaxTime                1\n",
              "apparentTemperatureMin            1\n",
              "apparentTemperatureMinTime        1\n",
              "apparentTemperatureMax            1\n",
              "apparentTemperatureMaxTime        1\n",
              "dtype: int64"
            ]
          },
          "metadata": {},
          "execution_count": 12
        }
      ]
    },
    {
      "cell_type": "code",
      "source": [
        "df1.dtypes"
      ],
      "metadata": {
        "colab": {
          "base_uri": "https://localhost:8080/"
        },
        "id": "Aywuo2n968Qo",
        "outputId": "6ab78924-56ae-4dba-e8df-fd94f50bb1fb"
      },
      "execution_count": 13,
      "outputs": [
        {
          "output_type": "execute_result",
          "data": {
            "text/plain": [
              "id                              object\n",
              "timestamp                      float64\n",
              "hour                             int64\n",
              "day                              int64\n",
              "month                            int64\n",
              "datetime                        object\n",
              "timezone                        object\n",
              "source                          object\n",
              "destination                     object\n",
              "cab_type                        object\n",
              "product_id                      object\n",
              "name                            object\n",
              "price                          float64\n",
              "distance                       float64\n",
              "surge_multiplier               float64\n",
              "latitude                       float64\n",
              "longitude                      float64\n",
              "temperature                    float64\n",
              "apparentTemperature            float64\n",
              "short_summary                   object\n",
              "long_summary                    object\n",
              "precipIntensity                float64\n",
              "precipProbability              float64\n",
              "humidity                       float64\n",
              "windSpeed                      float64\n",
              "windGust                       float64\n",
              "windGustTime                     int64\n",
              "visibility                     float64\n",
              "temperatureHigh                float64\n",
              "temperatureHighTime              int64\n",
              "temperatureLow                 float64\n",
              "temperatureLowTime               int64\n",
              "apparentTemperatureHigh        float64\n",
              "apparentTemperatureHighTime      int64\n",
              "apparentTemperatureLow         float64\n",
              "apparentTemperatureLowTime       int64\n",
              "icon                            object\n",
              "dewPoint                       float64\n",
              "pressure                       float64\n",
              "windBearing                    float64\n",
              "cloudCover                     float64\n",
              "uvIndex                        float64\n",
              "visibility.1                   float64\n",
              "ozone                          float64\n",
              "sunriseTime                    float64\n",
              "sunsetTime                     float64\n",
              "moonPhase                      float64\n",
              "precipIntensityMax             float64\n",
              "uvIndexTime                    float64\n",
              "temperatureMin                 float64\n",
              "temperatureMinTime             float64\n",
              "temperatureMax                 float64\n",
              "temperatureMaxTime             float64\n",
              "apparentTemperatureMin         float64\n",
              "apparentTemperatureMinTime     float64\n",
              "apparentTemperatureMax         float64\n",
              "apparentTemperatureMaxTime     float64\n",
              "dtype: object"
            ]
          },
          "metadata": {},
          "execution_count": 13
        }
      ]
    },
    {
      "cell_type": "code",
      "source": [
        "from sklearn import preprocessing \n",
        "  \n",
        "# label_encoder object knows how to understand word labels. \n",
        "label_encoder = preprocessing.LabelEncoder() \n",
        "df1['id']= label_encoder.fit_transform(df1['id'])\n",
        "df1['datetime']= label_encoder.fit_transform(df1['datetime']) \n",
        "df1['timezone']= label_encoder.fit_transform(df1['timezone'])\n",
        "df1['destination']= label_encoder.fit_transform(df1['destination']) \n",
        "df1['product_id']= label_encoder.fit_transform(df1['product_id'])\n",
        "df1['short_summary']= label_encoder.fit_transform(df1['short_summary'])\n",
        "df1['long_summary']= label_encoder.fit_transform(df1['long_summary'])"
      ],
      "metadata": {
        "id": "MiJkdW6N7rYo"
      },
      "execution_count": 15,
      "outputs": []
    },
    {
      "cell_type": "code",
      "source": [
        "df1['name']= label_encoder.fit_transform(df1['name'])\n",
        "for i, item in enumerate(label_encoder.classes_):\n",
        "    print(item, \"-->\", i)"
      ],
      "metadata": {
        "colab": {
          "base_uri": "https://localhost:8080/"
        },
        "id": "5Wsa8ake8dnb",
        "outputId": "0b5c1b2b-c066-4a43-cdb5-e5bdd94a7f69"
      },
      "execution_count": 17,
      "outputs": [
        {
          "output_type": "stream",
          "name": "stdout",
          "text": [
            "Black --> 0\n",
            "Black SUV --> 1\n",
            "Lux --> 2\n",
            "Lux Black --> 3\n",
            "Lux Black XL --> 4\n",
            "Lyft --> 5\n",
            "Lyft XL --> 6\n",
            "Shared --> 7\n",
            "Taxi --> 8\n",
            "UberPool --> 9\n",
            "UberX --> 10\n",
            "UberXL --> 11\n",
            "WAV --> 12\n"
          ]
        }
      ]
    },
    {
      "cell_type": "code",
      "source": [
        "df1['source']= label_encoder.fit_transform(df1['source'])\n",
        "for i, item in enumerate(label_encoder.classes_):\n",
        "    print(item, \"-->\", i)"
      ],
      "metadata": {
        "colab": {
          "base_uri": "https://localhost:8080/"
        },
        "id": "rBQBzLKmBPO2",
        "outputId": "17327d7d-deb2-43ac-fb66-6fd2501cf4bf"
      },
      "execution_count": 39,
      "outputs": [
        {
          "output_type": "stream",
          "name": "stdout",
          "text": [
            "Back Bay --> 0\n",
            "Beacon Hill --> 1\n",
            "Boston University --> 2\n",
            "Fenway --> 3\n",
            "Financial District --> 4\n",
            "Haymarket Square --> 5\n",
            "North End --> 6\n",
            "North Station --> 7\n",
            "Northeastern University --> 8\n",
            "South Station --> 9\n",
            "Theatre District --> 10\n",
            "West End --> 11\n"
          ]
        }
      ]
    },
    {
      "cell_type": "code",
      "source": [
        "df1['icon']= label_encoder.fit_transform(df1['icon'])\n",
        "\n",
        "for i, item in enumerate(label_encoder.classes_):\n",
        "    print(item, \"-->\", i)"
      ],
      "metadata": {
        "colab": {
          "base_uri": "https://localhost:8080/"
        },
        "id": "dCEGngfUB0kS",
        "outputId": "9506ec01-d318-430c-9109-6bc610eba0c3"
      },
      "execution_count": 57,
      "outputs": [
        {
          "output_type": "stream",
          "name": "stdout",
          "text": [
            " clear-day  --> 0\n",
            " clear-night  --> 1\n",
            " cloudy  --> 2\n",
            " fog  --> 3\n",
            " partly-cloudy-day  --> 4\n",
            " partly-cloudy-night  --> 5\n",
            " rain  --> 6\n"
          ]
        }
      ]
    },
    {
      "cell_type": "code",
      "source": [
        "df1['cab_type']= label_encoder.fit_transform(df1['cab_type'])\n",
        "\n",
        "for i, item in enumerate(label_encoder.classes_):\n",
        "    print(item, \"-->\", i)"
      ],
      "metadata": {
        "colab": {
          "base_uri": "https://localhost:8080/"
        },
        "id": "9ll0YIBMDVY5",
        "outputId": "e350dffc-1736-44f6-89f0-6310708707e1"
      },
      "execution_count": 71,
      "outputs": [
        {
          "output_type": "stream",
          "name": "stdout",
          "text": [
            "Lyft --> 0\n",
            "Uber --> 1\n"
          ]
        }
      ]
    },
    {
      "cell_type": "code",
      "source": [
        "df1.dtypes"
      ],
      "metadata": {
        "colab": {
          "base_uri": "https://localhost:8080/"
        },
        "id": "m-aVsam48r8f",
        "outputId": "cdad52f6-dc85-493c-b249-e48a2e7fe0ed"
      },
      "execution_count": 40,
      "outputs": [
        {
          "output_type": "execute_result",
          "data": {
            "text/plain": [
              "id                               int64\n",
              "timestamp                      float64\n",
              "hour                             int64\n",
              "day                              int64\n",
              "month                            int64\n",
              "datetime                         int64\n",
              "timezone                         int64\n",
              "source                           int64\n",
              "destination                      int64\n",
              "cab_type                        object\n",
              "product_id                       int64\n",
              "name                             int64\n",
              "price                            int64\n",
              "distance                       float64\n",
              "surge_multiplier               float64\n",
              "latitude                       float64\n",
              "longitude                      float64\n",
              "temperature                    float64\n",
              "apparentTemperature            float64\n",
              "short_summary                    int64\n",
              "long_summary                     int64\n",
              "precipIntensity                float64\n",
              "precipProbability              float64\n",
              "humidity                       float64\n",
              "windSpeed                      float64\n",
              "windGust                       float64\n",
              "windGustTime                     int64\n",
              "visibility                     float64\n",
              "temperatureHigh                float64\n",
              "temperatureHighTime              int64\n",
              "temperatureLow                 float64\n",
              "temperatureLowTime               int64\n",
              "apparentTemperatureHigh        float64\n",
              "apparentTemperatureHighTime      int64\n",
              "apparentTemperatureLow         float64\n",
              "apparentTemperatureLowTime       int64\n",
              "icon                            object\n",
              "dewPoint                       float64\n",
              "pressure                       float64\n",
              "windBearing                    float64\n",
              "cloudCover                     float64\n",
              "uvIndex                        float64\n",
              "visibility.1                   float64\n",
              "ozone                          float64\n",
              "sunriseTime                    float64\n",
              "sunsetTime                     float64\n",
              "moonPhase                      float64\n",
              "precipIntensityMax             float64\n",
              "uvIndexTime                    float64\n",
              "temperatureMin                 float64\n",
              "temperatureMinTime             float64\n",
              "temperatureMax                 float64\n",
              "temperatureMaxTime             float64\n",
              "apparentTemperatureMin         float64\n",
              "apparentTemperatureMinTime     float64\n",
              "apparentTemperatureMax         float64\n",
              "apparentTemperatureMaxTime     float64\n",
              "dtype: object"
            ]
          },
          "metadata": {},
          "execution_count": 40
        }
      ]
    },
    {
      "cell_type": "code",
      "source": [
        "df1[\"price\"].fillna(df1['price'].median(), inplace = True) "
      ],
      "metadata": {
        "id": "2oKRJToO85ko"
      },
      "execution_count": 73,
      "outputs": []
    },
    {
      "cell_type": "code",
      "source": [
        "df1.isnull().sum()"
      ],
      "metadata": {
        "colab": {
          "base_uri": "https://localhost:8080/"
        },
        "id": "uJn5_8Ot9HDQ",
        "outputId": "bc772ed3-9699-43a2-bf35-c20e20de030b"
      },
      "execution_count": 74,
      "outputs": [
        {
          "output_type": "execute_result",
          "data": {
            "text/plain": [
              "id                             0\n",
              "timestamp                      0\n",
              "hour                           0\n",
              "day                            0\n",
              "month                          0\n",
              "datetime                       0\n",
              "timezone                       0\n",
              "source                         0\n",
              "destination                    0\n",
              "cab_type                       0\n",
              "product_id                     0\n",
              "name                           0\n",
              "price                          0\n",
              "distance                       0\n",
              "surge_multiplier               0\n",
              "latitude                       0\n",
              "longitude                      0\n",
              "temperature                    0\n",
              "apparentTemperature            0\n",
              "short_summary                  0\n",
              "long_summary                   0\n",
              "precipIntensity                0\n",
              "precipProbability              0\n",
              "humidity                       0\n",
              "windSpeed                      0\n",
              "windGust                       0\n",
              "windGustTime                   0\n",
              "visibility                     0\n",
              "temperatureHigh                0\n",
              "temperatureHighTime            0\n",
              "temperatureLow                 0\n",
              "temperatureLowTime             0\n",
              "apparentTemperatureHigh        0\n",
              "apparentTemperatureHighTime    0\n",
              "apparentTemperatureLow         0\n",
              "apparentTemperatureLowTime     0\n",
              "icon                           0\n",
              "dewPoint                       0\n",
              "pressure                       0\n",
              "windBearing                    0\n",
              "cloudCover                     0\n",
              "uvIndex                        0\n",
              "visibility.1                   0\n",
              "ozone                          0\n",
              "sunriseTime                    0\n",
              "sunsetTime                     0\n",
              "moonPhase                      0\n",
              "precipIntensityMax             0\n",
              "uvIndexTime                    0\n",
              "temperatureMin                 0\n",
              "temperatureMinTime             0\n",
              "temperatureMax                 0\n",
              "temperatureMaxTime             0\n",
              "apparentTemperatureMin         0\n",
              "apparentTemperatureMinTime     0\n",
              "apparentTemperatureMax         0\n",
              "apparentTemperatureMaxTime     0\n",
              "dtype: int64"
            ]
          },
          "metadata": {},
          "execution_count": 74
        }
      ]
    },
    {
      "cell_type": "code",
      "source": [
        "df1 = df1.dropna(axis=0)"
      ],
      "metadata": {
        "id": "E9R3uX-R9LkM"
      },
      "execution_count": 75,
      "outputs": []
    },
    {
      "cell_type": "code",
      "source": [
        "df1.isnull().sum()"
      ],
      "metadata": {
        "colab": {
          "base_uri": "https://localhost:8080/"
        },
        "id": "2NMDSF7W92Hu",
        "outputId": "e292f20e-1e0e-45d9-f4d9-37ee41246ffb"
      },
      "execution_count": 76,
      "outputs": [
        {
          "output_type": "execute_result",
          "data": {
            "text/plain": [
              "id                             0\n",
              "timestamp                      0\n",
              "hour                           0\n",
              "day                            0\n",
              "month                          0\n",
              "datetime                       0\n",
              "timezone                       0\n",
              "source                         0\n",
              "destination                    0\n",
              "cab_type                       0\n",
              "product_id                     0\n",
              "name                           0\n",
              "price                          0\n",
              "distance                       0\n",
              "surge_multiplier               0\n",
              "latitude                       0\n",
              "longitude                      0\n",
              "temperature                    0\n",
              "apparentTemperature            0\n",
              "short_summary                  0\n",
              "long_summary                   0\n",
              "precipIntensity                0\n",
              "precipProbability              0\n",
              "humidity                       0\n",
              "windSpeed                      0\n",
              "windGust                       0\n",
              "windGustTime                   0\n",
              "visibility                     0\n",
              "temperatureHigh                0\n",
              "temperatureHighTime            0\n",
              "temperatureLow                 0\n",
              "temperatureLowTime             0\n",
              "apparentTemperatureHigh        0\n",
              "apparentTemperatureHighTime    0\n",
              "apparentTemperatureLow         0\n",
              "apparentTemperatureLowTime     0\n",
              "icon                           0\n",
              "dewPoint                       0\n",
              "pressure                       0\n",
              "windBearing                    0\n",
              "cloudCover                     0\n",
              "uvIndex                        0\n",
              "visibility.1                   0\n",
              "ozone                          0\n",
              "sunriseTime                    0\n",
              "sunsetTime                     0\n",
              "moonPhase                      0\n",
              "precipIntensityMax             0\n",
              "uvIndexTime                    0\n",
              "temperatureMin                 0\n",
              "temperatureMinTime             0\n",
              "temperatureMax                 0\n",
              "temperatureMaxTime             0\n",
              "apparentTemperatureMin         0\n",
              "apparentTemperatureMinTime     0\n",
              "apparentTemperatureMax         0\n",
              "apparentTemperatureMaxTime     0\n",
              "dtype: int64"
            ]
          },
          "metadata": {},
          "execution_count": 76
        }
      ]
    },
    {
      "cell_type": "code",
      "source": [
        "df1['price'].dtype"
      ],
      "metadata": {
        "colab": {
          "base_uri": "https://localhost:8080/"
        },
        "id": "gvZNLzDl944a",
        "outputId": "40ee193b-793e-4d87-9e92-30d56fd72b81"
      },
      "execution_count": 77,
      "outputs": [
        {
          "output_type": "execute_result",
          "data": {
            "text/plain": [
              "dtype('int64')"
            ]
          },
          "metadata": {},
          "execution_count": 77
        }
      ]
    },
    {
      "cell_type": "code",
      "source": [
        "df1.shape"
      ],
      "metadata": {
        "colab": {
          "base_uri": "https://localhost:8080/"
        },
        "id": "8T8I2gCrAtR6",
        "outputId": "f23bbc81-cb4a-4677-9285-30f8404df966"
      },
      "execution_count": 78,
      "outputs": [
        {
          "output_type": "execute_result",
          "data": {
            "text/plain": [
              "(106772, 57)"
            ]
          },
          "metadata": {},
          "execution_count": 78
        }
      ]
    },
    {
      "cell_type": "code",
      "source": [
        "df1['price'] = df1['price'].astype(int)"
      ],
      "metadata": {
        "id": "N13dWbto-Euf"
      },
      "execution_count": 63,
      "outputs": []
    },
    {
      "cell_type": "code",
      "source": [
        "df1['price'].head()"
      ],
      "metadata": {
        "colab": {
          "base_uri": "https://localhost:8080/"
        },
        "id": "ijTgiAl0-H4G",
        "outputId": "3d85dbf6-af65-4500-ad7c-43e5102c6514"
      },
      "execution_count": 79,
      "outputs": [
        {
          "output_type": "execute_result",
          "data": {
            "text/plain": [
              "0     5\n",
              "1    11\n",
              "2     7\n",
              "3    26\n",
              "4     9\n",
              "Name: price, dtype: int64"
            ]
          },
          "metadata": {},
          "execution_count": 79
        }
      ]
    },
    {
      "cell_type": "code",
      "source": [
        "import numpy as np\n",
        "from sklearn.model_selection import train_test_split\n",
        "from sklearn.metrics import accuracy_score\n",
        "from sklearn.linear_model import LinearRegression\n",
        "from sklearn.linear_model import LogisticRegression\n",
        "from sklearn.tree import DecisionTreeRegressor\n",
        "from sklearn.ensemble import RandomForestRegressor"
      ],
      "metadata": {
        "id": "vihTcnbE_Yde"
      },
      "execution_count": 80,
      "outputs": []
    },
    {
      "cell_type": "code",
      "source": [
        "X.head()"
      ],
      "metadata": {
        "colab": {
          "base_uri": "https://localhost:8080/",
          "height": 270
        },
        "id": "Cvu9E1ikAUvw",
        "outputId": "fb7d7775-58e8-4309-e7e3-4b4cda7b2524"
      },
      "execution_count": 81,
      "outputs": [
        {
          "output_type": "execute_result",
          "data": {
            "text/plain": [
              "      id     timestamp  hour  day  month  datetime  timezone  source  \\\n",
              "0  27568  1.544953e+09     9   16     12     24897         0       5   \n",
              "1  31535  1.543284e+09     2   27     11       949         0       5   \n",
              "2  63351  1.543367e+09     1   28     11      2514         0       5   \n",
              "3  81170  1.543554e+09     4   30     11      6912         0       5   \n",
              "4  93427  1.543463e+09     3   29     11      4368         0       5   \n",
              "\n",
              "   destination cab_type  product_id  name  distance  surge_multiplier  \\\n",
              "0            7     Lyft           8     7      0.44               1.0   \n",
              "1            7     Lyft          12     2      0.44               1.0   \n",
              "2            7     Lyft           7     5      0.44               1.0   \n",
              "3            7     Lyft          10     4      0.44               1.0   \n",
              "4            7     Lyft          11     6      0.44               1.0   \n",
              "\n",
              "   latitude  longitude  temperature  apparentTemperature  short_summary  \\\n",
              "0   42.2148    -71.033        42.34                37.12              4   \n",
              "1   42.2148    -71.033        43.58                37.35              8   \n",
              "2   42.2148    -71.033        38.33                32.93              0   \n",
              "3   42.2148    -71.033        34.38                29.63              0   \n",
              "4   42.2148    -71.033        37.44                30.88              6   \n",
              "\n",
              "   long_summary  precipIntensity  precipProbability  humidity  windSpeed  \\\n",
              "0             9           0.0000                0.0      0.68       8.66   \n",
              "1            10           0.1299                1.0      0.94      11.98   \n",
              "2             2           0.0000                0.0      0.75       7.33   \n",
              "3             6           0.0000                0.0      0.73       5.28   \n",
              "4             4           0.0000                0.0      0.70       9.14   \n",
              "\n",
              "   windGust  windGustTime  visibility  temperatureHigh  temperatureHighTime  \\\n",
              "0      9.17    1545015600      10.000            43.68           1544968800   \n",
              "1     11.98    1543291200       4.786            47.30           1543251600   \n",
              "2      7.33    1543334400      10.000            47.55           1543320000   \n",
              "3      5.28    1543514400      10.000            45.03           1543510800   \n",
              "4      9.14    1543446000      10.000            42.18           1543420800   \n",
              "\n",
              "   temperatureLow  temperatureLowTime  apparentTemperatureHigh  \\\n",
              "0           34.19          1545048000                    37.95   \n",
              "1           42.10          1543298400                    43.92   \n",
              "2           33.10          1543402800                    44.12   \n",
              "3           28.90          1543579200                    38.53   \n",
              "4           36.71          1543478400                    35.75   \n",
              "\n",
              "   apparentTemperatureHighTime  apparentTemperatureLow  \\\n",
              "0                   1544968800                   27.39   \n",
              "1                   1543251600                   36.20   \n",
              "2                   1543320000                   29.11   \n",
              "3                   1543510800                   26.20   \n",
              "4                   1543420800                   30.29   \n",
              "\n",
              "   apparentTemperatureLowTime  icon  dewPoint  pressure  windBearing  \\\n",
              "0                  1545044400     5     32.70   1021.98         57.0   \n",
              "1                  1543291200     6     41.83   1003.97         90.0   \n",
              "2                  1543392000     1     31.10    992.28        240.0   \n",
              "3                  1543575600     1     26.64   1013.73        310.0   \n",
              "4                  1543460400     5     28.61    998.36        303.0   \n",
              "\n",
              "   cloudCover  uvIndex  visibility.1  ozone   sunriseTime    sunsetTime  \\\n",
              "0        0.72      0.0        10.000  303.8  1.544962e+09  1.544995e+09   \n",
              "1        1.00      0.0         4.786  291.1  1.543233e+09  1.543267e+09   \n",
              "2        0.03      0.0        10.000  315.7  1.543319e+09  1.543353e+09   \n",
              "3        0.00      0.0        10.000  291.1  1.543492e+09  1.543526e+09   \n",
              "4        0.44      0.0        10.000  347.7  1.543406e+09  1.543440e+09   \n",
              "\n",
              "   moonPhase  precipIntensityMax   uvIndexTime  temperatureMin  \\\n",
              "0       0.30              0.1276  1.544980e+09           39.89   \n",
              "1       0.64              0.1300  1.543252e+09           40.49   \n",
              "2       0.68              0.1064  1.543338e+09           35.36   \n",
              "3       0.75              0.0000  1.543507e+09           34.67   \n",
              "4       0.72              0.0001  1.543421e+09           33.10   \n",
              "\n",
              "   temperatureMinTime  temperatureMax  temperatureMaxTime  \\\n",
              "0        1.545012e+09           43.68        1.544969e+09   \n",
              "1        1.543234e+09           47.30        1.543252e+09   \n",
              "2        1.543378e+09           47.55        1.543320e+09   \n",
              "3        1.543550e+09           45.03        1.543511e+09   \n",
              "4        1.543403e+09           42.18        1.543421e+09   \n",
              "\n",
              "   apparentTemperatureMin  apparentTemperatureMinTime  apparentTemperatureMax  \\\n",
              "0                   33.73                1.545012e+09                   38.07   \n",
              "1                   36.20                1.543291e+09                   43.92   \n",
              "2                   31.04                1.543378e+09                   44.12   \n",
              "3                   30.30                1.543550e+09                   38.53   \n",
              "4                   29.11                1.543392e+09                   35.75   \n",
              "\n",
              "   apparentTemperatureMaxTime  \n",
              "0                1.544958e+09  \n",
              "1                1.543252e+09  \n",
              "2                1.543320e+09  \n",
              "3                1.543511e+09  \n",
              "4                1.543421e+09  "
            ],
            "text/html": [
              "\n",
              "  <div id=\"df-28490ab7-758c-455b-91fc-4fac1caccb71\">\n",
              "    <div class=\"colab-df-container\">\n",
              "      <div>\n",
              "<style scoped>\n",
              "    .dataframe tbody tr th:only-of-type {\n",
              "        vertical-align: middle;\n",
              "    }\n",
              "\n",
              "    .dataframe tbody tr th {\n",
              "        vertical-align: top;\n",
              "    }\n",
              "\n",
              "    .dataframe thead th {\n",
              "        text-align: right;\n",
              "    }\n",
              "</style>\n",
              "<table border=\"1\" class=\"dataframe\">\n",
              "  <thead>\n",
              "    <tr style=\"text-align: right;\">\n",
              "      <th></th>\n",
              "      <th>id</th>\n",
              "      <th>timestamp</th>\n",
              "      <th>hour</th>\n",
              "      <th>day</th>\n",
              "      <th>month</th>\n",
              "      <th>datetime</th>\n",
              "      <th>timezone</th>\n",
              "      <th>source</th>\n",
              "      <th>destination</th>\n",
              "      <th>cab_type</th>\n",
              "      <th>product_id</th>\n",
              "      <th>name</th>\n",
              "      <th>distance</th>\n",
              "      <th>surge_multiplier</th>\n",
              "      <th>latitude</th>\n",
              "      <th>longitude</th>\n",
              "      <th>temperature</th>\n",
              "      <th>apparentTemperature</th>\n",
              "      <th>short_summary</th>\n",
              "      <th>long_summary</th>\n",
              "      <th>precipIntensity</th>\n",
              "      <th>precipProbability</th>\n",
              "      <th>humidity</th>\n",
              "      <th>windSpeed</th>\n",
              "      <th>windGust</th>\n",
              "      <th>windGustTime</th>\n",
              "      <th>visibility</th>\n",
              "      <th>temperatureHigh</th>\n",
              "      <th>temperatureHighTime</th>\n",
              "      <th>temperatureLow</th>\n",
              "      <th>temperatureLowTime</th>\n",
              "      <th>apparentTemperatureHigh</th>\n",
              "      <th>apparentTemperatureHighTime</th>\n",
              "      <th>apparentTemperatureLow</th>\n",
              "      <th>apparentTemperatureLowTime</th>\n",
              "      <th>icon</th>\n",
              "      <th>dewPoint</th>\n",
              "      <th>pressure</th>\n",
              "      <th>windBearing</th>\n",
              "      <th>cloudCover</th>\n",
              "      <th>uvIndex</th>\n",
              "      <th>visibility.1</th>\n",
              "      <th>ozone</th>\n",
              "      <th>sunriseTime</th>\n",
              "      <th>sunsetTime</th>\n",
              "      <th>moonPhase</th>\n",
              "      <th>precipIntensityMax</th>\n",
              "      <th>uvIndexTime</th>\n",
              "      <th>temperatureMin</th>\n",
              "      <th>temperatureMinTime</th>\n",
              "      <th>temperatureMax</th>\n",
              "      <th>temperatureMaxTime</th>\n",
              "      <th>apparentTemperatureMin</th>\n",
              "      <th>apparentTemperatureMinTime</th>\n",
              "      <th>apparentTemperatureMax</th>\n",
              "      <th>apparentTemperatureMaxTime</th>\n",
              "    </tr>\n",
              "  </thead>\n",
              "  <tbody>\n",
              "    <tr>\n",
              "      <th>0</th>\n",
              "      <td>27568</td>\n",
              "      <td>1.544953e+09</td>\n",
              "      <td>9</td>\n",
              "      <td>16</td>\n",
              "      <td>12</td>\n",
              "      <td>24897</td>\n",
              "      <td>0</td>\n",
              "      <td>5</td>\n",
              "      <td>7</td>\n",
              "      <td>Lyft</td>\n",
              "      <td>8</td>\n",
              "      <td>7</td>\n",
              "      <td>0.44</td>\n",
              "      <td>1.0</td>\n",
              "      <td>42.2148</td>\n",
              "      <td>-71.033</td>\n",
              "      <td>42.34</td>\n",
              "      <td>37.12</td>\n",
              "      <td>4</td>\n",
              "      <td>9</td>\n",
              "      <td>0.0000</td>\n",
              "      <td>0.0</td>\n",
              "      <td>0.68</td>\n",
              "      <td>8.66</td>\n",
              "      <td>9.17</td>\n",
              "      <td>1545015600</td>\n",
              "      <td>10.000</td>\n",
              "      <td>43.68</td>\n",
              "      <td>1544968800</td>\n",
              "      <td>34.19</td>\n",
              "      <td>1545048000</td>\n",
              "      <td>37.95</td>\n",
              "      <td>1544968800</td>\n",
              "      <td>27.39</td>\n",
              "      <td>1545044400</td>\n",
              "      <td>5</td>\n",
              "      <td>32.70</td>\n",
              "      <td>1021.98</td>\n",
              "      <td>57.0</td>\n",
              "      <td>0.72</td>\n",
              "      <td>0.0</td>\n",
              "      <td>10.000</td>\n",
              "      <td>303.8</td>\n",
              "      <td>1.544962e+09</td>\n",
              "      <td>1.544995e+09</td>\n",
              "      <td>0.30</td>\n",
              "      <td>0.1276</td>\n",
              "      <td>1.544980e+09</td>\n",
              "      <td>39.89</td>\n",
              "      <td>1.545012e+09</td>\n",
              "      <td>43.68</td>\n",
              "      <td>1.544969e+09</td>\n",
              "      <td>33.73</td>\n",
              "      <td>1.545012e+09</td>\n",
              "      <td>38.07</td>\n",
              "      <td>1.544958e+09</td>\n",
              "    </tr>\n",
              "    <tr>\n",
              "      <th>1</th>\n",
              "      <td>31535</td>\n",
              "      <td>1.543284e+09</td>\n",
              "      <td>2</td>\n",
              "      <td>27</td>\n",
              "      <td>11</td>\n",
              "      <td>949</td>\n",
              "      <td>0</td>\n",
              "      <td>5</td>\n",
              "      <td>7</td>\n",
              "      <td>Lyft</td>\n",
              "      <td>12</td>\n",
              "      <td>2</td>\n",
              "      <td>0.44</td>\n",
              "      <td>1.0</td>\n",
              "      <td>42.2148</td>\n",
              "      <td>-71.033</td>\n",
              "      <td>43.58</td>\n",
              "      <td>37.35</td>\n",
              "      <td>8</td>\n",
              "      <td>10</td>\n",
              "      <td>0.1299</td>\n",
              "      <td>1.0</td>\n",
              "      <td>0.94</td>\n",
              "      <td>11.98</td>\n",
              "      <td>11.98</td>\n",
              "      <td>1543291200</td>\n",
              "      <td>4.786</td>\n",
              "      <td>47.30</td>\n",
              "      <td>1543251600</td>\n",
              "      <td>42.10</td>\n",
              "      <td>1543298400</td>\n",
              "      <td>43.92</td>\n",
              "      <td>1543251600</td>\n",
              "      <td>36.20</td>\n",
              "      <td>1543291200</td>\n",
              "      <td>6</td>\n",
              "      <td>41.83</td>\n",
              "      <td>1003.97</td>\n",
              "      <td>90.0</td>\n",
              "      <td>1.00</td>\n",
              "      <td>0.0</td>\n",
              "      <td>4.786</td>\n",
              "      <td>291.1</td>\n",
              "      <td>1.543233e+09</td>\n",
              "      <td>1.543267e+09</td>\n",
              "      <td>0.64</td>\n",
              "      <td>0.1300</td>\n",
              "      <td>1.543252e+09</td>\n",
              "      <td>40.49</td>\n",
              "      <td>1.543234e+09</td>\n",
              "      <td>47.30</td>\n",
              "      <td>1.543252e+09</td>\n",
              "      <td>36.20</td>\n",
              "      <td>1.543291e+09</td>\n",
              "      <td>43.92</td>\n",
              "      <td>1.543252e+09</td>\n",
              "    </tr>\n",
              "    <tr>\n",
              "      <th>2</th>\n",
              "      <td>63351</td>\n",
              "      <td>1.543367e+09</td>\n",
              "      <td>1</td>\n",
              "      <td>28</td>\n",
              "      <td>11</td>\n",
              "      <td>2514</td>\n",
              "      <td>0</td>\n",
              "      <td>5</td>\n",
              "      <td>7</td>\n",
              "      <td>Lyft</td>\n",
              "      <td>7</td>\n",
              "      <td>5</td>\n",
              "      <td>0.44</td>\n",
              "      <td>1.0</td>\n",
              "      <td>42.2148</td>\n",
              "      <td>-71.033</td>\n",
              "      <td>38.33</td>\n",
              "      <td>32.93</td>\n",
              "      <td>0</td>\n",
              "      <td>2</td>\n",
              "      <td>0.0000</td>\n",
              "      <td>0.0</td>\n",
              "      <td>0.75</td>\n",
              "      <td>7.33</td>\n",
              "      <td>7.33</td>\n",
              "      <td>1543334400</td>\n",
              "      <td>10.000</td>\n",
              "      <td>47.55</td>\n",
              "      <td>1543320000</td>\n",
              "      <td>33.10</td>\n",
              "      <td>1543402800</td>\n",
              "      <td>44.12</td>\n",
              "      <td>1543320000</td>\n",
              "      <td>29.11</td>\n",
              "      <td>1543392000</td>\n",
              "      <td>1</td>\n",
              "      <td>31.10</td>\n",
              "      <td>992.28</td>\n",
              "      <td>240.0</td>\n",
              "      <td>0.03</td>\n",
              "      <td>0.0</td>\n",
              "      <td>10.000</td>\n",
              "      <td>315.7</td>\n",
              "      <td>1.543319e+09</td>\n",
              "      <td>1.543353e+09</td>\n",
              "      <td>0.68</td>\n",
              "      <td>0.1064</td>\n",
              "      <td>1.543338e+09</td>\n",
              "      <td>35.36</td>\n",
              "      <td>1.543378e+09</td>\n",
              "      <td>47.55</td>\n",
              "      <td>1.543320e+09</td>\n",
              "      <td>31.04</td>\n",
              "      <td>1.543378e+09</td>\n",
              "      <td>44.12</td>\n",
              "      <td>1.543320e+09</td>\n",
              "    </tr>\n",
              "    <tr>\n",
              "      <th>3</th>\n",
              "      <td>81170</td>\n",
              "      <td>1.543554e+09</td>\n",
              "      <td>4</td>\n",
              "      <td>30</td>\n",
              "      <td>11</td>\n",
              "      <td>6912</td>\n",
              "      <td>0</td>\n",
              "      <td>5</td>\n",
              "      <td>7</td>\n",
              "      <td>Lyft</td>\n",
              "      <td>10</td>\n",
              "      <td>4</td>\n",
              "      <td>0.44</td>\n",
              "      <td>1.0</td>\n",
              "      <td>42.2148</td>\n",
              "      <td>-71.033</td>\n",
              "      <td>34.38</td>\n",
              "      <td>29.63</td>\n",
              "      <td>0</td>\n",
              "      <td>6</td>\n",
              "      <td>0.0000</td>\n",
              "      <td>0.0</td>\n",
              "      <td>0.73</td>\n",
              "      <td>5.28</td>\n",
              "      <td>5.28</td>\n",
              "      <td>1543514400</td>\n",
              "      <td>10.000</td>\n",
              "      <td>45.03</td>\n",
              "      <td>1543510800</td>\n",
              "      <td>28.90</td>\n",
              "      <td>1543579200</td>\n",
              "      <td>38.53</td>\n",
              "      <td>1543510800</td>\n",
              "      <td>26.20</td>\n",
              "      <td>1543575600</td>\n",
              "      <td>1</td>\n",
              "      <td>26.64</td>\n",
              "      <td>1013.73</td>\n",
              "      <td>310.0</td>\n",
              "      <td>0.00</td>\n",
              "      <td>0.0</td>\n",
              "      <td>10.000</td>\n",
              "      <td>291.1</td>\n",
              "      <td>1.543492e+09</td>\n",
              "      <td>1.543526e+09</td>\n",
              "      <td>0.75</td>\n",
              "      <td>0.0000</td>\n",
              "      <td>1.543507e+09</td>\n",
              "      <td>34.67</td>\n",
              "      <td>1.543550e+09</td>\n",
              "      <td>45.03</td>\n",
              "      <td>1.543511e+09</td>\n",
              "      <td>30.30</td>\n",
              "      <td>1.543550e+09</td>\n",
              "      <td>38.53</td>\n",
              "      <td>1.543511e+09</td>\n",
              "    </tr>\n",
              "    <tr>\n",
              "      <th>4</th>\n",
              "      <td>93427</td>\n",
              "      <td>1.543463e+09</td>\n",
              "      <td>3</td>\n",
              "      <td>29</td>\n",
              "      <td>11</td>\n",
              "      <td>4368</td>\n",
              "      <td>0</td>\n",
              "      <td>5</td>\n",
              "      <td>7</td>\n",
              "      <td>Lyft</td>\n",
              "      <td>11</td>\n",
              "      <td>6</td>\n",
              "      <td>0.44</td>\n",
              "      <td>1.0</td>\n",
              "      <td>42.2148</td>\n",
              "      <td>-71.033</td>\n",
              "      <td>37.44</td>\n",
              "      <td>30.88</td>\n",
              "      <td>6</td>\n",
              "      <td>4</td>\n",
              "      <td>0.0000</td>\n",
              "      <td>0.0</td>\n",
              "      <td>0.70</td>\n",
              "      <td>9.14</td>\n",
              "      <td>9.14</td>\n",
              "      <td>1543446000</td>\n",
              "      <td>10.000</td>\n",
              "      <td>42.18</td>\n",
              "      <td>1543420800</td>\n",
              "      <td>36.71</td>\n",
              "      <td>1543478400</td>\n",
              "      <td>35.75</td>\n",
              "      <td>1543420800</td>\n",
              "      <td>30.29</td>\n",
              "      <td>1543460400</td>\n",
              "      <td>5</td>\n",
              "      <td>28.61</td>\n",
              "      <td>998.36</td>\n",
              "      <td>303.0</td>\n",
              "      <td>0.44</td>\n",
              "      <td>0.0</td>\n",
              "      <td>10.000</td>\n",
              "      <td>347.7</td>\n",
              "      <td>1.543406e+09</td>\n",
              "      <td>1.543440e+09</td>\n",
              "      <td>0.72</td>\n",
              "      <td>0.0001</td>\n",
              "      <td>1.543421e+09</td>\n",
              "      <td>33.10</td>\n",
              "      <td>1.543403e+09</td>\n",
              "      <td>42.18</td>\n",
              "      <td>1.543421e+09</td>\n",
              "      <td>29.11</td>\n",
              "      <td>1.543392e+09</td>\n",
              "      <td>35.75</td>\n",
              "      <td>1.543421e+09</td>\n",
              "    </tr>\n",
              "  </tbody>\n",
              "</table>\n",
              "</div>\n",
              "      <button class=\"colab-df-convert\" onclick=\"convertToInteractive('df-28490ab7-758c-455b-91fc-4fac1caccb71')\"\n",
              "              title=\"Convert this dataframe to an interactive table.\"\n",
              "              style=\"display:none;\">\n",
              "        \n",
              "  <svg xmlns=\"http://www.w3.org/2000/svg\" height=\"24px\"viewBox=\"0 0 24 24\"\n",
              "       width=\"24px\">\n",
              "    <path d=\"M0 0h24v24H0V0z\" fill=\"none\"/>\n",
              "    <path d=\"M18.56 5.44l.94 2.06.94-2.06 2.06-.94-2.06-.94-.94-2.06-.94 2.06-2.06.94zm-11 1L8.5 8.5l.94-2.06 2.06-.94-2.06-.94L8.5 2.5l-.94 2.06-2.06.94zm10 10l.94 2.06.94-2.06 2.06-.94-2.06-.94-.94-2.06-.94 2.06-2.06.94z\"/><path d=\"M17.41 7.96l-1.37-1.37c-.4-.4-.92-.59-1.43-.59-.52 0-1.04.2-1.43.59L10.3 9.45l-7.72 7.72c-.78.78-.78 2.05 0 2.83L4 21.41c.39.39.9.59 1.41.59.51 0 1.02-.2 1.41-.59l7.78-7.78 2.81-2.81c.8-.78.8-2.07 0-2.86zM5.41 20L4 18.59l7.72-7.72 1.47 1.35L5.41 20z\"/>\n",
              "  </svg>\n",
              "      </button>\n",
              "      \n",
              "  <style>\n",
              "    .colab-df-container {\n",
              "      display:flex;\n",
              "      flex-wrap:wrap;\n",
              "      gap: 12px;\n",
              "    }\n",
              "\n",
              "    .colab-df-convert {\n",
              "      background-color: #E8F0FE;\n",
              "      border: none;\n",
              "      border-radius: 50%;\n",
              "      cursor: pointer;\n",
              "      display: none;\n",
              "      fill: #1967D2;\n",
              "      height: 32px;\n",
              "      padding: 0 0 0 0;\n",
              "      width: 32px;\n",
              "    }\n",
              "\n",
              "    .colab-df-convert:hover {\n",
              "      background-color: #E2EBFA;\n",
              "      box-shadow: 0px 1px 2px rgba(60, 64, 67, 0.3), 0px 1px 3px 1px rgba(60, 64, 67, 0.15);\n",
              "      fill: #174EA6;\n",
              "    }\n",
              "\n",
              "    [theme=dark] .colab-df-convert {\n",
              "      background-color: #3B4455;\n",
              "      fill: #D2E3FC;\n",
              "    }\n",
              "\n",
              "    [theme=dark] .colab-df-convert:hover {\n",
              "      background-color: #434B5C;\n",
              "      box-shadow: 0px 1px 3px 1px rgba(0, 0, 0, 0.15);\n",
              "      filter: drop-shadow(0px 1px 2px rgba(0, 0, 0, 0.3));\n",
              "      fill: #FFFFFF;\n",
              "    }\n",
              "  </style>\n",
              "\n",
              "      <script>\n",
              "        const buttonEl =\n",
              "          document.querySelector('#df-28490ab7-758c-455b-91fc-4fac1caccb71 button.colab-df-convert');\n",
              "        buttonEl.style.display =\n",
              "          google.colab.kernel.accessAllowed ? 'block' : 'none';\n",
              "\n",
              "        async function convertToInteractive(key) {\n",
              "          const element = document.querySelector('#df-28490ab7-758c-455b-91fc-4fac1caccb71');\n",
              "          const dataTable =\n",
              "            await google.colab.kernel.invokeFunction('convertToInteractive',\n",
              "                                                     [key], {});\n",
              "          if (!dataTable) return;\n",
              "\n",
              "          const docLinkHtml = 'Like what you see? Visit the ' +\n",
              "            '<a target=\"_blank\" href=https://colab.research.google.com/notebooks/data_table.ipynb>data table notebook</a>'\n",
              "            + ' to learn more about interactive tables.';\n",
              "          element.innerHTML = '';\n",
              "          dataTable['output_type'] = 'display_data';\n",
              "          await google.colab.output.renderOutput(dataTable, element);\n",
              "          const docLink = document.createElement('div');\n",
              "          docLink.innerHTML = docLinkHtml;\n",
              "          element.appendChild(docLink);\n",
              "        }\n",
              "      </script>\n",
              "    </div>\n",
              "  </div>\n",
              "  "
            ]
          },
          "metadata": {},
          "execution_count": 81
        }
      ]
    },
    {
      "cell_type": "code",
      "source": [
        "X = df1.drop('price', axis = 1)\n",
        "y = df1['price']"
      ],
      "metadata": {
        "id": "_1HkbFul_jhO"
      },
      "execution_count": 82,
      "outputs": []
    },
    {
      "cell_type": "code",
      "source": [
        "X_train, X_test, y_train, y_test = train_test_split(X, y, test_size = 0.2, random_state = 10)"
      ],
      "metadata": {
        "id": "5Q2ikIPR_nyB"
      },
      "execution_count": 83,
      "outputs": []
    },
    {
      "cell_type": "code",
      "source": [
        "X_train.shape"
      ],
      "metadata": {
        "colab": {
          "base_uri": "https://localhost:8080/"
        },
        "id": "9INUNW9d_v1H",
        "outputId": "836090db-c0ac-4bd0-c058-4ec085087b23"
      },
      "execution_count": 84,
      "outputs": [
        {
          "output_type": "execute_result",
          "data": {
            "text/plain": [
              "(85417, 56)"
            ]
          },
          "metadata": {},
          "execution_count": 84
        }
      ]
    },
    {
      "cell_type": "code",
      "source": [
        "X_test.shape"
      ],
      "metadata": {
        "colab": {
          "base_uri": "https://localhost:8080/"
        },
        "id": "_aQX1_vE_yA7",
        "outputId": "d2ff2e11-9df9-4858-de01-16be71e7dc9c"
      },
      "execution_count": 85,
      "outputs": [
        {
          "output_type": "execute_result",
          "data": {
            "text/plain": [
              "(21355, 56)"
            ]
          },
          "metadata": {},
          "execution_count": 85
        }
      ]
    },
    {
      "cell_type": "code",
      "source": [
        "y_train.shape"
      ],
      "metadata": {
        "colab": {
          "base_uri": "https://localhost:8080/"
        },
        "id": "C_fqNa9d_z_h",
        "outputId": "5eb3a57c-3b39-48c5-e1c7-a35c1d7575ca"
      },
      "execution_count": 86,
      "outputs": [
        {
          "output_type": "execute_result",
          "data": {
            "text/plain": [
              "(85417,)"
            ]
          },
          "metadata": {},
          "execution_count": 86
        }
      ]
    },
    {
      "cell_type": "code",
      "source": [
        "#Creating model\n",
        "reg = LinearRegression()\n",
        "#Fitting training data\n",
        "reg = reg.fit(X_train, y_train)"
      ],
      "metadata": {
        "id": "Dcvf0Jau_7Qo"
      },
      "execution_count": 87,
      "outputs": []
    },
    {
      "cell_type": "code",
      "source": [
        "reg.score(X_train, y_train)"
      ],
      "metadata": {
        "colab": {
          "base_uri": "https://localhost:8080/"
        },
        "id": "SeNc2SJV_-CI",
        "outputId": "f2ec902c-ec52-4251-fcb3-6ce6a97c0d2b"
      },
      "execution_count": 89,
      "outputs": [
        {
          "output_type": "execute_result",
          "data": {
            "text/plain": [
              "0.5279748412733876"
            ]
          },
          "metadata": {},
          "execution_count": 89
        }
      ]
    },
    {
      "cell_type": "code",
      "source": [
        "from sklearn.feature_selection import RFE"
      ],
      "metadata": {
        "id": "PzW7x2r7EZnU"
      },
      "execution_count": 90,
      "outputs": []
    },
    {
      "cell_type": "code",
      "source": [
        "X.shape"
      ],
      "metadata": {
        "colab": {
          "base_uri": "https://localhost:8080/"
        },
        "id": "SNQuJpNUR2rV",
        "outputId": "e90093b1-9556-46d6-9b0c-bef308cc6946"
      },
      "execution_count": 149,
      "outputs": [
        {
          "output_type": "execute_result",
          "data": {
            "text/plain": [
              "(106772, 56)"
            ]
          },
          "metadata": {},
          "execution_count": 149
        }
      ]
    },
    {
      "cell_type": "code",
      "source": [
        "rfe = RFE(reg, n_features_to_select=40, step=1)\n",
        "rfe = rfe.fit(X, y)"
      ],
      "metadata": {
        "id": "VBC3lfLqEbCj"
      },
      "execution_count": 93,
      "outputs": []
    },
    {
      "cell_type": "code",
      "source": [
        "len(rfe.support_)"
      ],
      "metadata": {
        "colab": {
          "base_uri": "https://localhost:8080/"
        },
        "id": "L-CQLk07EfQb",
        "outputId": "f536d899-1888-4d4a-fec8-91c296a8c9d7"
      },
      "execution_count": 148,
      "outputs": [
        {
          "output_type": "execute_result",
          "data": {
            "text/plain": [
              "56"
            ]
          },
          "metadata": {},
          "execution_count": 148
        }
      ]
    },
    {
      "cell_type": "code",
      "source": [
        "X1 =X[X.columns[rfe.support_]]"
      ],
      "metadata": {
        "id": "4tBa9VzIFQLH"
      },
      "execution_count": 95,
      "outputs": []
    },
    {
      "cell_type": "code",
      "source": [
        "X_train, X_test, y_train, y_test = train_test_split(X1, y, test_size = 0.3, random_state = 10)"
      ],
      "metadata": {
        "id": "qaftgANcFVDe"
      },
      "execution_count": 97,
      "outputs": []
    },
    {
      "cell_type": "code",
      "source": [
        "X_train.shape"
      ],
      "metadata": {
        "colab": {
          "base_uri": "https://localhost:8080/"
        },
        "id": "LLdw00DlFd9q",
        "outputId": "e434e8b2-b804-4f64-f244-3b5d9decae1f"
      },
      "execution_count": 98,
      "outputs": [
        {
          "output_type": "execute_result",
          "data": {
            "text/plain": [
              "(74740, 40)"
            ]
          },
          "metadata": {},
          "execution_count": 98
        }
      ]
    },
    {
      "cell_type": "code",
      "source": [
        "reg1 = LinearRegression()\n",
        "#Fitting training data\n",
        "reg1 = reg1.fit(X_train, y_train)"
      ],
      "metadata": {
        "id": "HTtFPDdbFelC"
      },
      "execution_count": 99,
      "outputs": []
    },
    {
      "cell_type": "code",
      "source": [
        "reg1.score(X_train, y_train)"
      ],
      "metadata": {
        "colab": {
          "base_uri": "https://localhost:8080/"
        },
        "id": "1Oskr6MWFkXE",
        "outputId": "41fbd530-3917-427e-f5ff-599830a43a82"
      },
      "execution_count": 100,
      "outputs": [
        {
          "output_type": "execute_result",
          "data": {
            "text/plain": [
              "0.5283274251046605"
            ]
          },
          "metadata": {},
          "execution_count": 100
        }
      ]
    },
    {
      "cell_type": "code",
      "source": [
        "rfe = RFE(reg, n_features_to_select=15, step=1)\n",
        "rfe = rfe.fit(X, y)"
      ],
      "metadata": {
        "id": "IW-4sjyZFlXC"
      },
      "execution_count": 108,
      "outputs": []
    },
    {
      "cell_type": "code",
      "source": [
        "rfe.support_"
      ],
      "metadata": {
        "colab": {
          "base_uri": "https://localhost:8080/"
        },
        "id": "3gKrza8SFu2F",
        "outputId": "1c07c040-785b-4521-f394-a0085966003b"
      },
      "execution_count": 109,
      "outputs": [
        {
          "output_type": "execute_result",
          "data": {
            "text/plain": [
              "array([False, False, False, False, False, False, False, False, False,\n",
              "        True,  True,  True,  True,  True,  True,  True, False, False,\n",
              "       False, False,  True, False,  True, False, False, False, False,\n",
              "        True, False, False, False,  True, False, False, False, False,\n",
              "       False, False, False, False, False, False, False, False, False,\n",
              "        True,  True, False, False, False,  True, False, False, False,\n",
              "        True, False])"
            ]
          },
          "metadata": {},
          "execution_count": 109
        }
      ]
    },
    {
      "cell_type": "code",
      "source": [
        "X2 =X[X.columns[rfe.support_]]\n"
      ],
      "metadata": {
        "id": "49s25lHTF0jR"
      },
      "execution_count": 111,
      "outputs": []
    },
    {
      "cell_type": "code",
      "source": [
        "X_train, X_test, y_train, y_test = train_test_split(X2, y, test_size = 0.3, random_state = 10)"
      ],
      "metadata": {
        "id": "IT1m0FZQF4Gb"
      },
      "execution_count": 113,
      "outputs": []
    },
    {
      "cell_type": "code",
      "source": [
        "X_train.shape"
      ],
      "metadata": {
        "colab": {
          "base_uri": "https://localhost:8080/"
        },
        "id": "PQvAhr4rGlEj",
        "outputId": "42ec84d6-5586-4860-8d6e-636a29304623"
      },
      "execution_count": 114,
      "outputs": [
        {
          "output_type": "execute_result",
          "data": {
            "text/plain": [
              "(74740, 15)"
            ]
          },
          "metadata": {},
          "execution_count": 114
        }
      ]
    },
    {
      "cell_type": "code",
      "source": [
        "reg2 = LinearRegression()\n",
        "#Fitting training data\n",
        "reg2 = reg2.fit(X_train, y_train)"
      ],
      "metadata": {
        "id": "YzHbyI3zF7h7"
      },
      "execution_count": 115,
      "outputs": []
    },
    {
      "cell_type": "code",
      "source": [
        "reg2.score(X_train, y_train)"
      ],
      "metadata": {
        "colab": {
          "base_uri": "https://localhost:8080/"
        },
        "id": "vS1PZRBJGCkP",
        "outputId": "97830769-1299-4c8b-a1ec-a0b679e5e111"
      },
      "execution_count": 116,
      "outputs": [
        {
          "output_type": "execute_result",
          "data": {
            "text/plain": [
              "0.5280619177205106"
            ]
          },
          "metadata": {},
          "execution_count": 116
        }
      ]
    },
    {
      "cell_type": "code",
      "source": [
        "# Since there is no improvement in accuracy we will consider all the feaures."
      ],
      "metadata": {
        "id": "yrBeoBjjGFaX"
      },
      "execution_count": null,
      "outputs": []
    },
    {
      "cell_type": "code",
      "source": [
        "X.shape"
      ],
      "metadata": {
        "colab": {
          "base_uri": "https://localhost:8080/"
        },
        "id": "TfThy3c4SCdU",
        "outputId": "fcd607cc-d113-415e-dcce-39d24eabe818"
      },
      "execution_count": 150,
      "outputs": [
        {
          "output_type": "execute_result",
          "data": {
            "text/plain": [
              "(106772, 56)"
            ]
          },
          "metadata": {},
          "execution_count": 150
        }
      ]
    },
    {
      "cell_type": "code",
      "source": [
        "X_train, X_test, y_train, y_test = train_test_split(X, y, test_size = 0.2, random_state = 10)"
      ],
      "metadata": {
        "id": "_fQrM4A6QAE9"
      },
      "execution_count": 135,
      "outputs": []
    },
    {
      "cell_type": "code",
      "source": [
        "linear = LinearRegression()\n",
        "linear.fit(X_train, y_train)\n",
        "linear.score(X_test, y_test)"
      ],
      "metadata": {
        "colab": {
          "base_uri": "https://localhost:8080/"
        },
        "id": "UisMgb2XHDV8",
        "outputId": "850ecb6b-47f1-4bfd-83c3-2328b2321a45"
      },
      "execution_count": 136,
      "outputs": [
        {
          "output_type": "execute_result",
          "data": {
            "text/plain": [
              "0.5276841482264273"
            ]
          },
          "metadata": {},
          "execution_count": 136
        }
      ]
    },
    {
      "cell_type": "code",
      "source": [
        "decision = DecisionTreeRegressor(random_state = 0)  \n",
        "decision.fit(X_train, y_train) \n",
        "decision.score(X_test, y_test)"
      ],
      "metadata": {
        "colab": {
          "base_uri": "https://localhost:8080/"
        },
        "id": "INCdsJfrHI9t",
        "outputId": "49b2e23b-0c45-4c3c-c13a-8113e956cfed"
      },
      "execution_count": 137,
      "outputs": [
        {
          "output_type": "execute_result",
          "data": {
            "text/plain": [
              "0.928440953394467"
            ]
          },
          "metadata": {},
          "execution_count": 137
        }
      ]
    },
    {
      "cell_type": "code",
      "source": [
        "random = RandomForestRegressor(n_estimators = 10, random_state = 0) \n",
        "random.fit(X_train, y_train) \n",
        "random.score(X_test, y_test)"
      ],
      "metadata": {
        "colab": {
          "base_uri": "https://localhost:8080/"
        },
        "id": "MDAI5-RtHUPr",
        "outputId": "330a46e7-ba02-4021-96bc-6f7af1393ab9"
      },
      "execution_count": 138,
      "outputs": [
        {
          "output_type": "execute_result",
          "data": {
            "text/plain": [
              "0.9578113460135927"
            ]
          },
          "metadata": {},
          "execution_count": 138
        }
      ]
    },
    {
      "cell_type": "code",
      "source": [
        "from sklearn import ensemble\n",
        "clf = ensemble.GradientBoostingRegressor(n_estimators = 10, max_depth = 5)\n",
        "clf.fit(X_train, y_train)\n",
        "clf.score(X_test, y_test)"
      ],
      "metadata": {
        "colab": {
          "base_uri": "https://localhost:8080/"
        },
        "id": "tMWJPLRqHc8v",
        "outputId": "d699a491-58e2-4b74-fe1f-cbb57b3fd187"
      },
      "execution_count": 139,
      "outputs": [
        {
          "output_type": "execute_result",
          "data": {
            "text/plain": [
              "0.8095831065769962"
            ]
          },
          "metadata": {},
          "execution_count": 139
        }
      ]
    },
    {
      "cell_type": "code",
      "source": [
        "linear.coef_"
      ],
      "metadata": {
        "colab": {
          "base_uri": "https://localhost:8080/"
        },
        "id": "ybv8J5llIKyT",
        "outputId": "d933853a-4360-4ed2-c2f6-2437d1668196"
      },
      "execution_count": 140,
      "outputs": [
        {
          "output_type": "execute_result",
          "data": {
            "text/plain": [
              "array([-9.55550115e-07, -3.65073710e-06,  8.83114505e-03,  8.83333141e-02,\n",
              "        2.83693532e+00,  7.39971549e-05, -2.87260020e-09,  3.65139063e-02,\n",
              "        6.96755375e-03,  7.60009268e+00,  6.81485180e-01, -1.58712527e+00,\n",
              "        2.58365667e+00,  2.02595245e+01,  1.43245148e+00,  2.09198044e-01,\n",
              "       -3.58669068e-02,  2.78074087e-03, -3.61569829e-03, -7.96037353e-03,\n",
              "        7.60946408e-01, -1.43256913e-01, -7.54508580e-01,  5.71359457e-02,\n",
              "       -1.73887030e-02,  1.96974255e-06, -7.51823484e-03, -2.08705827e+00,\n",
              "        9.66227525e-06,  2.63437811e-02,  1.13520643e-05,  1.15733779e+00,\n",
              "       -2.04172586e-05, -1.57299255e-02, -2.27784678e-05,  2.56186572e-04,\n",
              "        3.88316789e-02,  6.40966713e-03,  2.44420785e-04, -9.79669645e-02,\n",
              "       -5.70730370e-02, -7.51823486e-03,  1.78338463e-03, -2.69805057e-03,\n",
              "        2.70954699e-03,  1.70173959e-01,  2.95723710e+00, -4.27882069e-05,\n",
              "       -4.54249597e-02,  1.62089327e-05,  1.97139227e+00,  9.65891301e-06,\n",
              "        2.09585398e-02, -1.30627507e-06, -1.09470856e+00,  3.04212072e-05])"
            ]
          },
          "metadata": {},
          "execution_count": 140
        }
      ]
    },
    {
      "cell_type": "code",
      "source": [
        "prediction = linear.predict(X_test)\n",
        "prediction"
      ],
      "metadata": {
        "colab": {
          "base_uri": "https://localhost:8080/"
        },
        "id": "mtjYCTtfMTgs",
        "outputId": "93027557-7be2-40ae-bda4-39fd296bfffb"
      },
      "execution_count": 141,
      "outputs": [
        {
          "output_type": "execute_result",
          "data": {
            "text/plain": [
              "array([ 7.00621165, 14.93351138, 18.35393761, ...,  8.68034621,\n",
              "        7.06043111, 24.42571414])"
            ]
          },
          "metadata": {},
          "execution_count": 141
        }
      ]
    },
    {
      "cell_type": "code",
      "source": [
        "from sklearn import metrics\n",
        "print('MAE :',\" \", metrics.mean_absolute_error(y_test,prediction))\n",
        "print('MSE :',\" \", metrics.mean_squared_error(y_test,prediction))\n",
        "print('RMAE :',\" \", np.sqrt(metrics.mean_squared_error(y_test,prediction)))"
      ],
      "metadata": {
        "colab": {
          "base_uri": "https://localhost:8080/"
        },
        "id": "UJaJs89VMXyJ",
        "outputId": "fe4f33d8-a712-4613-b48d-fb5c6abc7c9f"
      },
      "execution_count": 142,
      "outputs": [
        {
          "output_type": "stream",
          "name": "stdout",
          "text": [
            "MAE :   4.832164000944597\n",
            "MSE :   38.25770185719056\n",
            "RMAE :   6.18528106533491\n"
          ]
        }
      ]
    },
    {
      "cell_type": "code",
      "source": [
        "predictions = random.predict(X_test)"
      ],
      "metadata": {
        "id": "46Q2GGEkMiSh"
      },
      "execution_count": 143,
      "outputs": []
    },
    {
      "cell_type": "code",
      "source": [
        "from sklearn import metrics\n",
        "print('MAE :',\" \", metrics.mean_absolute_error(y_test,predictions))\n",
        "print('MSE :',\" \", metrics.mean_squared_error(y_test,predictions))\n",
        "print('RMAE :',\" \", np.sqrt(metrics.mean_squared_error(y_test,predictions)))"
      ],
      "metadata": {
        "colab": {
          "base_uri": "https://localhost:8080/"
        },
        "id": "AUVR6bdaMqmK",
        "outputId": "1f954443-58bf-40f8-90c6-c8457b7bcac8"
      },
      "execution_count": 144,
      "outputs": [
        {
          "output_type": "stream",
          "name": "stdout",
          "text": [
            "MAE :   1.1382627019433387\n",
            "MSE :   3.41729150081948\n",
            "RMAE :   1.8485917615361918\n"
          ]
        }
      ]
    },
    {
      "cell_type": "code",
      "source": [
        "#Defining a function to predict for different models\n",
        "def pricePrediction(name,source,surge_multiplier,icon):    \n",
        "    loc_index = np.where(X.columns==name)[0]\n",
        "\n",
        "    x = np.zeros(len(X.columns))\n",
        "    x[0] = source\n",
        "    x[1] = surge_multiplier\n",
        "    x[2] = icon\n",
        "    if loc_index >= 0:\n",
        "        x[loc_index] = 1\n",
        "\n",
        "    return random.predict([x])[0]"
      ],
      "metadata": {
        "id": "B96sPhx9MxI6"
      },
      "execution_count": 151,
      "outputs": []
    },
    {
      "cell_type": "code",
      "source": [
        "pre= random.predict(X_test)"
      ],
      "metadata": {
        "id": "SELQP4V6N4Uc"
      },
      "execution_count": 146,
      "outputs": []
    },
    {
      "cell_type": "code",
      "source": [
        "pricePrediction(1 , 3, 2, 0)"
      ],
      "metadata": {
        "colab": {
          "base_uri": "https://localhost:8080/"
        },
        "id": "oryoQdQsNXqO",
        "outputId": "86e6b7e9-e6be-46e8-8ed5-e52d3b6eb102"
      },
      "execution_count": 152,
      "outputs": [
        {
          "output_type": "execute_result",
          "data": {
            "text/plain": [
              "20.2"
            ]
          },
          "metadata": {},
          "execution_count": 152
        }
      ]
    },
    {
      "cell_type": "code",
      "source": [],
      "metadata": {
        "id": "BiZYgZHLNux7"
      },
      "execution_count": null,
      "outputs": []
    }
  ]
}